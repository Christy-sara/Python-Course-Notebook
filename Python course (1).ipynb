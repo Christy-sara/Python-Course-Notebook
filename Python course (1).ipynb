{
 "cells": [
  {
   "cell_type": "markdown",
   "id": "c958ad92-3e64-41b1-8419-850f5ad5f120",
   "metadata": {},
   "source": [
    "## Complete Python Notes"
   ]
  },
  {
   "cell_type": "markdown",
   "id": "656844ae-885c-48f8-b3a1-09485c92ca28",
   "metadata": {},
   "source": [
    "###### Presented by Christy sara  saji"
   ]
  },
  {
   "cell_type": "markdown",
   "id": "c8c15565-645c-4e14-b44e-59e6f0205d9c",
   "metadata": {},
   "source": [
    "#### Python is an interpreted, object-oriented and high-level programming language. [Python is 1st compiled and then interpreted. the compilation part is hidden from the programmers, thus, programmers believe that is an intepreted language.]   "
   ]
  },
  {
   "cell_type": "markdown",
   "id": "532ae52b-891a-408a-b01e-b3a03010f572",
   "metadata": {},
   "source": [
    "#### Python was developed by Guido Van Rossum in 1980s."
   ]
  },
  {
   "cell_type": "code",
   "execution_count": 233,
   "id": "7e63d4d7-7d29-45ae-beb5-91b8e4be6d68",
   "metadata": {},
   "outputs": [
    {
     "name": "stdout",
     "output_type": "stream",
     "text": [
      "5 Joe\n"
     ]
    }
   ],
   "source": [
    "# Variables  ( only alpha-numerical characters and underscores should have, must not start with a number)\n",
    "x = 5\n",
    "y = 'Joe'\n",
    "print(x,y)"
   ]
  },
  {
   "cell_type": "code",
   "execution_count": 11,
   "id": "bc2540ce-dd2f-4cec-b648-c14cb51ff0c2",
   "metadata": {},
   "outputs": [
    {
     "name": "stdout",
     "output_type": "stream",
     "text": [
      "3\n",
      "8.0\n"
     ]
    }
   ],
   "source": [
    "# casting (specifying data types)\n",
    "x = str(3)\n",
    "y = float(8)\n",
    "print(x)\n",
    "print(y)"
   ]
  },
  {
   "cell_type": "code",
   "execution_count": 13,
   "id": "2464f7dc-2af3-4d71-841a-14586bfe27d4",
   "metadata": {},
   "outputs": [
    {
     "name": "stdout",
     "output_type": "stream",
     "text": [
      "<class 'str'>\n",
      "<class 'float'>\n"
     ]
    }
   ],
   "source": [
    "# type() function (gives data types)\n",
    "x = 'George'\n",
    "y = 5.5\n",
    "print(type(x))\n",
    "print(type(y))"
   ]
  },
  {
   "cell_type": "code",
   "execution_count": 20,
   "id": "55b5279d-501d-4ec0-92dc-b756f7cc77ab",
   "metadata": {},
   "outputs": [
    {
     "name": "stdout",
     "output_type": "stream",
     "text": [
      "rona\n"
     ]
    }
   ],
   "source": [
    "# python variables are case-sensitive\n",
    "a = 6\n",
    "A = 'rona'\n",
    "print(A)"
   ]
  },
  {
   "cell_type": "markdown",
   "id": "6e565bc1-d339-4512-b3cc-1286055cf85f",
   "metadata": {},
   "source": [
    "#### Multi-word variable names techniques:\n",
    "###### 1. camel case: myVariableName = 'John'\n",
    "###### 2. pascal case: MyVariableName = 'john'\n",
    "###### 3. snake case: my_variable_name = 'john'"
   ]
  },
  {
   "cell_type": "markdown",
   "id": "7e2e7277-f60a-4399-b72a-9799cbade740",
   "metadata": {},
   "source": [
    "#### Global variables( variables created outside of the function) & local variable( inside of the function)"
   ]
  },
  {
   "cell_type": "code",
   "execution_count": 11,
   "id": "c495d55a-5e77-4c68-b4a1-7c075f87d198",
   "metadata": {},
   "outputs": [
    {
     "name": "stdout",
     "output_type": "stream",
     "text": [
      "python is fantastic\n",
      "python is awesome\n"
     ]
    }
   ],
   "source": [
    "x = 'awesome'            # global variable\n",
    "def myfunc():\n",
    "    x = 'fantastic'      #local variable\n",
    "    print(\"python is \" + x)\n",
    "myfunc()\n",
    "print(\"python is \" + x)"
   ]
  },
  {
   "cell_type": "markdown",
   "id": "8272a761-ef74-4478-bfa5-885f395f4b8b",
   "metadata": {},
   "source": [
    "#### Python datatypes\n",
    "##### str, int, float, bool, list, tuple, set, dict"
   ]
  },
  {
   "cell_type": "markdown",
   "id": "3567a31b-253e-44c9-9b9a-cf63ffcc8900",
   "metadata": {},
   "source": [
    "### String functions"
   ]
  },
  {
   "cell_type": "code",
   "execution_count": 33,
   "id": "cedd82c5-6bed-4c67-b8cc-aea62028b109",
   "metadata": {},
   "outputs": [
    {
     "name": "stdout",
     "output_type": "stream",
     "text": [
      "11\n"
     ]
    }
   ],
   "source": [
    "# 1. length: len ()\n",
    "a = 'Hello world'\n",
    "print(len(a))"
   ]
  },
  {
   "cell_type": "code",
   "execution_count": 35,
   "id": "835e9c25-8933-4e92-ae36-33af8439cc3a",
   "metadata": {},
   "outputs": [
    {
     "name": "stdout",
     "output_type": "stream",
     "text": [
      "llo\n",
      "Hello w\n",
      " wor\n"
     ]
    }
   ],
   "source": [
    "# 2.slicing strings \n",
    "a = 'Hello world'\n",
    "print(a[2:5])\n",
    "print(a[:7])\n",
    "print(a[-6:-2])"
   ]
  },
  {
   "cell_type": "code",
   "execution_count": 37,
   "id": "eb25ae21-15c9-4c88-8272-bb6f628d2cab",
   "metadata": {},
   "outputs": [
    {
     "name": "stdout",
     "output_type": "stream",
     "text": [
      "HELLO WORLD\n"
     ]
    }
   ],
   "source": [
    "# 3. upper()\n",
    "a = 'Hello world'\n",
    "print(a.upper())"
   ]
  },
  {
   "cell_type": "code",
   "execution_count": 39,
   "id": "a4c9acd9-59be-4034-bf7a-e9d6c1820896",
   "metadata": {},
   "outputs": [
    {
     "name": "stdout",
     "output_type": "stream",
     "text": [
      "hello world\n"
     ]
    }
   ],
   "source": [
    "# 4. lower()\n",
    "a = 'Hello WORld'\n",
    "print(a.lower())"
   ]
  },
  {
   "cell_type": "code",
   "execution_count": 41,
   "id": "2bb3709d-16bf-46da-8623-062ba7dfcd9f",
   "metadata": {},
   "outputs": [
    {
     "name": "stdout",
     "output_type": "stream",
     "text": [
      "Hello, world\n"
     ]
    }
   ],
   "source": [
    "# 5. strip() removes whitespace from beginning and end\n",
    "a = ' Hello, world  '\n",
    "print(a.strip())"
   ]
  },
  {
   "cell_type": "code",
   "execution_count": 45,
   "id": "f7bee34e-477d-42e5-a291-7492971bcd34",
   "metadata": {},
   "outputs": [
    {
     "name": "stdout",
     "output_type": "stream",
     "text": [
      "Cello world\n"
     ]
    }
   ],
   "source": [
    "# 6. Replace()\n",
    "a = 'Hello world'\n",
    "print(a.replace('H', 'C'))"
   ]
  },
  {
   "cell_type": "code",
   "execution_count": 53,
   "id": "9b0dbce6-8df0-4edd-9753-1e76efa2b9ba",
   "metadata": {},
   "outputs": [
    {
     "name": "stdout",
     "output_type": "stream",
     "text": [
      "['Hello ', '  world']\n"
     ]
    }
   ],
   "source": [
    "# 7. split() splits the string into substrings\n",
    "a = 'Hello ,  world'\n",
    "print(a.split(','))"
   ]
  },
  {
   "cell_type": "code",
   "execution_count": 59,
   "id": "d694d497-566c-4f12-b2dd-f7756f3f7f56",
   "metadata": {},
   "outputs": [
    {
     "name": "stdout",
     "output_type": "stream",
     "text": [
      "hello priya\n"
     ]
    }
   ],
   "source": [
    "# 8. concatenation \n",
    "a = 'hello'\n",
    "b = 'priya'\n",
    "c = a+ \" \" + b\n",
    "print(c)\n"
   ]
  },
  {
   "cell_type": "code",
   "execution_count": 73,
   "id": "d098e48a-f726-49e7-bec3-ab509ba36cdd",
   "metadata": {},
   "outputs": [
    {
     "name": "stdout",
     "output_type": "stream",
     "text": [
      "Hey riya\n"
     ]
    }
   ],
   "source": [
    "# 9. capitalize()  makes 1st letter in capital and rest in lower\n",
    "fur = 'hey RIYA'\n",
    "print(fur.capitalize())"
   ]
  },
  {
   "cell_type": "code",
   "execution_count": 65,
   "id": "716fdf71-befe-435a-a1fb-ecd0ff2f9837",
   "metadata": {},
   "outputs": [
    {
     "name": "stdout",
     "output_type": "stream",
     "text": [
      "2\n"
     ]
    }
   ],
   "source": [
    "# 10. count() return the no. of times a value appears\n",
    "fur = 'hey baby, sweety is my baby'\n",
    "print(fur.count('baby'))"
   ]
  },
  {
   "cell_type": "code",
   "execution_count": 71,
   "id": "5af93e36-59fe-4637-974b-fee1c2a84d10",
   "metadata": {},
   "outputs": [
    {
     "name": "stdout",
     "output_type": "stream",
     "text": [
      "18\n"
     ]
    }
   ],
   "source": [
    "# 11. find() returns the 1st occurence of the value\n",
    "fur = 'Hello, Welcome to Gisma'\n",
    "print(fur.find('Gisma'))"
   ]
  },
  {
   "cell_type": "code",
   "execution_count": 83,
   "id": "68cf0fc0-1002-48fb-8741-05ef27b4a2bb",
   "metadata": {},
   "outputs": [
    {
     "name": "stdout",
     "output_type": "stream",
     "text": [
      " My name is Christy, I am 23 years old.\n"
     ]
    }
   ],
   "source": [
    "# 12. fsrings or format method: combining number into the string\n",
    "age = 23\n",
    "txt = f\" My name is Christy, I am {age} years old.\"    # age:.Nf to decimals values where N is no. of decimal places\n",
    "print(txt)"
   ]
  },
  {
   "cell_type": "code",
   "execution_count": 85,
   "id": "6c6a50f5-c6d8-4961-85a0-37de6e88fc02",
   "metadata": {},
   "outputs": [
    {
     "name": "stdout",
     "output_type": "stream",
     "text": [
      "True\n",
      "True\n"
     ]
    }
   ],
   "source": [
    "# \"in\" and \"not in\" keywords to check a character is present or not.\n",
    "txt = \" The table is really expensive.\"\n",
    "print('table ' in txt)\n",
    "print('world' not in txt)"
   ]
  },
  {
   "cell_type": "markdown",
   "id": "028719e8-6c0f-4f87-b334-e1df7a03a6a2",
   "metadata": {},
   "source": [
    "### Operators"
   ]
  },
  {
   "cell_type": "markdown",
   "id": "7b45d2dd-b819-4247-98c9-3a2e1d8f196b",
   "metadata": {},
   "source": [
    "#### 1. Arithmetic operators\n",
    "| Operator | Name           | Example  | Result | Meaning                       |\n",
    "| -------- | -------------- | -------- | ------ | ----------------------------- |\n",
    "| `+`      | Addition       | `5 + 2`  | `7`    | Adds two numbers              |\n",
    "| `-`      | Subtraction    | `5 - 2`  | `3`    | Subtracts second from first   |\n",
    "| `*`      | Multiplication | `5 * 2`  | `10`   | Multiplies numbers            |\n",
    "| `/`      | Division       | `5 / 2`  | `2.5`  | Regular division (float)      |\n",
    "| `//`     | Floor Division | `5 // 2` | `2`    | Divides and returns the whole number |\n",
    "| `%`      | Modulus        | `5 % 2`  | `1`    | Remainder of division         |\n",
    "| `**`     | Exponentiation | `2 ** 3` | `8`    | 2 raised to power 3           |\n",
    "\n"
   ]
  },
  {
   "cell_type": "markdown",
   "id": "2fb51647-b60a-4606-8729-8a8ca7b93f9b",
   "metadata": {
    "jp-MarkdownHeadingCollapsed": true
   },
   "source": [
    "#### 2.Comparison operators\n",
    "| Operator | Description           | Example  | Result  |\n",
    "| -------- | --------------------- | -------- | ------- |\n",
    "| `==`     | Equal to              | `5 == 5` | `True`  |\n",
    "| `!=`     | Not equal to          | `5 != 3` | `True`  |\n",
    "| `>`      | Greater than          | `5 > 3`  | `True`  |\n",
    "| `<`      | Less than             | `5 < 3`  | `False` |\n",
    "| `>=`     | Greater than or equal | `5 >= 5` | `True`  |\n",
    "| `<=`     | Less than or equal    | `5 <= 6` | `True`  |\n"
   ]
  },
  {
   "cell_type": "markdown",
   "id": "3ef1556c-b9be-464e-8d17-863161f6c774",
   "metadata": {},
   "source": [
    "#### 3. Assignment operators\n",
    "| Operator | Description         | Example   | Meaning          |\n",
    "| -------- | ------------------- | --------- | ---------------- |\n",
    "| `=`      | Assign value        | `x = 5`   | Assigns 5 to `x` |\n",
    "| `+=`     | Add and assign      | `x += 2`  | `x = x + 2`      |\n",
    "| `-=`     | Subtract and assign | `x -= 1`  | `x = x - 1`      |\n",
    "| `*=`     | Multiply and assign | `x *= 3`  | `x = x * 3`      |\n",
    "| `/=`     | Divide and assign   | `x /= 2`  | `x = x / 2`      |\n",
    "| `//=`    | Floor divide assign | `x //= 2` | `x = x // 2`     |\n",
    "| `%=`     | Modulus and assign  | `x %= 3`  | `x = x % 3`      |\n",
    "| `**=`    | Exponent and assign | `x **= 2` | `x = x ** 2`     |\n",
    "\n"
   ]
  },
  {
   "cell_type": "markdown",
   "id": "acf11692-fc34-4765-9de5-bd3b6e5e792d",
   "metadata": {},
   "source": [
    "#### 4.Logical operators\n",
    "| Operator | Description                      | Example          | Result  |\n",
    "| -------- | -------------------------------- | ---------------- | ------- |\n",
    "| `and`    | True if **both** are True        | `True and False` | `False` |\n",
    "| `or`     | True if **at least one** is True | `True or False`  | `True`  |\n",
    "| `not`    | Reverses the boolean value       | `not True`       | `False` |\n"
   ]
  },
  {
   "cell_type": "markdown",
   "id": "0913d7a3-91e3-4847-baac-0433693cf657",
   "metadata": {},
   "source": [
    "#### 5. Membership Operators\n",
    "| Operator | Description                          | Example              | Result |\n",
    "| -------- | ------------------------------------ | -------------------- | ------ |\n",
    "| `in`     | Returns True if value exists         | `'a' in 'apple'`     | `True` |\n",
    "| `not in` | Returns True if value does not exist | `'x' not in 'apple'` | `True` |\n"
   ]
  },
  {
   "cell_type": "code",
   "execution_count": 104,
   "id": "b759bfa1-af3b-4664-aa99-f48488817758",
   "metadata": {},
   "outputs": [
    {
     "name": "stdout",
     "output_type": "stream",
     "text": [
      "True\n"
     ]
    }
   ],
   "source": [
    "# eg: for membership operator\n",
    "x=['apple','cherry']\n",
    "print('apple' in x)"
   ]
  },
  {
   "cell_type": "markdown",
   "id": "b36802b5-6a7d-4d16-9845-c970ad196db1",
   "metadata": {},
   "source": [
    "#### 6. Identity Operators\n",
    "| Operator | Description                                  | Example      | Result       |\n",
    "| -------- | -------------------------------------------- | ------------ | ------------ |\n",
    "| `is`     | True if both refer to the **same object**    | `x is y`     | `True/False` |\n",
    "| `is not` | True if they do **not** refer to same object | `x is not y` | `True/False` |\n"
   ]
  },
  {
   "cell_type": "code",
   "execution_count": 108,
   "id": "a46ee766-2a26-40f8-8183-10b1c7a30ff7",
   "metadata": {},
   "outputs": [
    {
     "name": "stdout",
     "output_type": "stream",
     "text": [
      "True\n",
      "False\n",
      "True\n"
     ]
    }
   ],
   "source": [
    "# eg: for identity operators\n",
    "x=['apple','cherry']\n",
    "y=['apple','cherry']\n",
    "z=x\n",
    "print(x is z)    ## x i same as z\n",
    "print( x is y)   ## y is not same as x, only the content\n",
    "print(x==y)      ## content same\n"
   ]
  },
  {
   "cell_type": "markdown",
   "id": "ce502246-5414-49d2-b03b-48493b9e8cd7",
   "metadata": {},
   "source": [
    "#### Conditional statements\n",
    "##### if:     executes if the condition is True\n",
    "##### elif:   runs if previous is False (else if)\n",
    "##### else:   executes if all previus are False"
   ]
  },
  {
   "cell_type": "code",
   "execution_count": 36,
   "id": "658f254c-07d1-4dd6-8876-6e1481169677",
   "metadata": {},
   "outputs": [
    {
     "name": "stdin",
     "output_type": "stream",
     "text": [
      "Enter a number -5\n"
     ]
    },
    {
     "name": "stdout",
     "output_type": "stream",
     "text": [
      "-5 is negative\n"
     ]
    }
   ],
   "source": [
    "# program 1. find a number whether is positive, negative or zero\n",
    "a = int(input(\"Enter a number\"))\n",
    "if a>0:\n",
    "    print(\"%d is positive\"%(a))\n",
    "elif a<0:\n",
    "    print(\"%d is negative\"%(a))\n",
    "else:\n",
    "    print(\"%d is zero\"%(a))\n",
    "    "
   ]
  },
  {
   "cell_type": "code",
   "execution_count": 38,
   "id": "b726be82-f073-4bf1-972e-0a210d282ddd",
   "metadata": {},
   "outputs": [
    {
     "name": "stdin",
     "output_type": "stream",
     "text": [
      "Enter the first number 6\n",
      "Enter the second number 18\n",
      "Enter the third number -2\n"
     ]
    },
    {
     "name": "stdout",
     "output_type": "stream",
     "text": [
      "The largest number is 18\n"
     ]
    }
   ],
   "source": [
    "# program 2. find largest among 3 nums\n",
    "a = int(input(\"Enter the first number\"))\n",
    "b = int(input('Enter the second number'))\n",
    "c = int(input('Enter the third number'))\n",
    "if a==b and b==c:\n",
    "    print(\"all numbers are equal\")\n",
    "if a>b and a>c:\n",
    "    print(\"The largest number is %d\" %(a))\n",
    "elif b>c:\n",
    "    print('The largest number is %d' %(b))\n",
    "else:\n",
    "    print('The largest number is %d' %(c))\n"
   ]
  },
  {
   "cell_type": "code",
   "execution_count": 40,
   "id": "dd0a3d9a-2836-4ec4-967c-76680cd5228c",
   "metadata": {},
   "outputs": [
    {
     "name": "stdin",
     "output_type": "stream",
     "text": [
      "Enter the year 2020\n"
     ]
    },
    {
     "name": "stdout",
     "output_type": "stream",
     "text": [
      "2020 is leap year\n"
     ]
    }
   ],
   "source": [
    "# program 3. display leap year or not\n",
    "year = int(input(\"Enter the year\"))\n",
    "if (year%4==0) or (year%400==0):\n",
    "    print('%d is leap year'%(year))\n",
    "else:\n",
    "    print('%d is not leap year'%(year))"
   ]
  },
  {
   "cell_type": "code",
   "execution_count": 42,
   "id": "52bcd170-3863-4fa5-a5ac-2a61e95258f5",
   "metadata": {},
   "outputs": [
    {
     "name": "stdin",
     "output_type": "stream",
     "text": [
      "Enter a number from 1-7:  6\n"
     ]
    },
    {
     "name": "stdout",
     "output_type": "stream",
     "text": [
      "Saturday\n"
     ]
    }
   ],
   "source": [
    "# program 4. display weekdays\n",
    "wd = int(input('Enter a number from 1-7: '))\n",
    "if wd==1:\n",
    "    print('Monday')\n",
    "elif wd==2:\n",
    "    print('Tuesday')\n",
    "elif wd==3:\n",
    "    print('Wednesday')\n",
    "elif wd==4:\n",
    "    print('Thursday')\n",
    "elif wd==5:\n",
    "    print('Friday')\n",
    "elif wd==6:\n",
    "    print('Saturday')\n",
    "elif wd==7:\n",
    "    print('Sunday')\n",
    "else:\n",
    "    print('Invalid day')\n",
    "          "
   ]
  },
  {
   "cell_type": "code",
   "execution_count": 50,
   "id": "a4fa34bf-9b12-44cf-95aa-86f41d85651a",
   "metadata": {},
   "outputs": [
    {
     "name": "stdout",
     "output_type": "stream",
     "text": [
      "50 is above 10\n",
      "and above 30\n"
     ]
    }
   ],
   "source": [
    "# program  5. nested if: if statement inside if statement itself.\n",
    "x = 50\n",
    "if x>10:\n",
    "    print(\"%d is above 10\" %(x))\n",
    "    if x>30:                             # prints if above statement is True\n",
    "        print(\"and above 30\")\n",
    "    else:\n",
    "        print(\"not above 30\")"
   ]
  },
  {
   "cell_type": "markdown",
   "id": "bfd61fa8-8c7c-4ec0-be10-2a82843c5c43",
   "metadata": {},
   "source": [
    "### Loops\n",
    "##### for:   loops over items in a sequence\n",
    "##### while: repeats while condition is true"
   ]
  },
  {
   "cell_type": "code",
   "execution_count": 48,
   "id": "d0a24520-9d91-44fd-bb29-1fd6aa5e653a",
   "metadata": {},
   "outputs": [
    {
     "name": "stdin",
     "output_type": "stream",
     "text": [
      "Enter a limit 6\n"
     ]
    },
    {
     "name": "stdout",
     "output_type": "stream",
     "text": [
      "Sum is 6\n",
      "Sum is 11\n",
      "Sum is 15\n",
      "Sum is 18\n",
      "Sum is 20\n",
      "Sum is 21\n"
     ]
    }
   ],
   "source": [
    "# program 6. find the sum of n natural nums\n",
    "n = int(input('Enter a limit'))\n",
    "sum = 0\n",
    "while n>0:\n",
    "    sum+=n\n",
    "    n=n-1\n",
    "    print('Sum is %d' %(sum))"
   ]
  },
  {
   "cell_type": "code",
   "execution_count": 52,
   "id": "68e15e54-89d2-4e12-ba4d-0e5c331c72c7",
   "metadata": {},
   "outputs": [
    {
     "name": "stdin",
     "output_type": "stream",
     "text": [
      "Enter a number 957\n"
     ]
    },
    {
     "name": "stdout",
     "output_type": "stream",
     "text": [
      "Reverse of 957 is 759\n"
     ]
    }
   ],
   "source": [
    "# program 7. find the reverse of a num\n",
    "n = int(input('Enter a number'))\n",
    "reverse = 0\n",
    "temp = n\n",
    "while n>0:\n",
    "    rem = n%10\n",
    "    reverse = reverse*10 + rem\n",
    "    n//=10\n",
    "print('Reverse of %d is %d' %(temp,reverse))"
   ]
  },
  {
   "cell_type": "code",
   "execution_count": 54,
   "id": "4c21db2c-193a-49ff-8eb3-05cdca561096",
   "metadata": {},
   "outputs": [
    {
     "name": "stdin",
     "output_type": "stream",
     "text": [
      "Enter the number 5\n",
      "Enter the limit 10\n"
     ]
    },
    {
     "name": "stdout",
     "output_type": "stream",
     "text": [
      "1 * 5 = 5\n",
      "2 * 5 = 10\n",
      "3 * 5 = 15\n",
      "4 * 5 = 20\n",
      "5 * 5 = 25\n",
      "6 * 5 = 30\n",
      "7 * 5 = 35\n",
      "8 * 5 = 40\n",
      "9 * 5 = 45\n",
      "10 * 5 = 50\n"
     ]
    }
   ],
   "source": [
    "# program 8. print multiplication table\n",
    "n=int(input('Enter the number'))\n",
    "limit=int(input('Enter the limit'))\n",
    "for i in range(limit):\n",
    "    print('%d * %d = %d' %(i*1+1, n, (i*1+1)*n))   #i is zero\n",
    "    "
   ]
  },
  {
   "cell_type": "code",
   "execution_count": 60,
   "id": "23aa424d-e907-4515-b155-058a83f7c074",
   "metadata": {},
   "outputs": [
    {
     "name": "stdin",
     "output_type": "stream",
     "text": [
      "Enter the number 1\n",
      "Enter the limit 5\n"
     ]
    },
    {
     "name": "stdout",
     "output_type": "stream",
     "text": [
      "1\n",
      "2\n",
      "3\n",
      "4\n",
      "5\n"
     ]
    }
   ],
   "source": [
    "# program 9. print first 10 natural nums\n",
    "n=int(input('Enter the number'))\n",
    "limit=int(input('Enter the limit'))\n",
    "for i in range(limit):\n",
    "    print('%d' %(n+i))\n",
    "    "
   ]
  },
  {
   "cell_type": "code",
   "execution_count": 62,
   "id": "ba60b58e-4acc-49f8-8136-483798576496",
   "metadata": {},
   "outputs": [
    {
     "name": "stdin",
     "output_type": "stream",
     "text": [
      "Enter the limit 8\n"
     ]
    },
    {
     "name": "stdout",
     "output_type": "stream",
     "text": [
      "0\n",
      "2\n",
      "4\n",
      "6\n"
     ]
    }
   ],
   "source": [
    "#program 10. print even numbers within range\n",
    "limit=int(input('Enter the limit'))\n",
    "for i in range(limit):\n",
    "    if i%2==0:\n",
    "        print('%d'%(i))"
   ]
  },
  {
   "cell_type": "code",
   "execution_count": 66,
   "id": "3c5214cc-2d58-4692-9c86-1bdedf9ee888",
   "metadata": {},
   "outputs": [
    {
     "name": "stdin",
     "output_type": "stream",
     "text": [
      "Enter the number 1000\n"
     ]
    },
    {
     "name": "stdout",
     "output_type": "stream",
     "text": [
      "1\n",
      "2\n",
      "3\n",
      "4\n"
     ]
    }
   ],
   "source": [
    "#program 11. count the no.of digits in a num\n",
    "n=int(input('Enter the number'))\n",
    "count=0\n",
    "for i in str(n):  # Convert number to string and loop through each digit, coz it is considered as different characters to get the count\n",
    "    count+=1\n",
    "    print('%d' %(count))"
   ]
  },
  {
   "cell_type": "code",
   "execution_count": 68,
   "id": "dbd7502d-286a-4027-9a76-b0d90a524b2e",
   "metadata": {},
   "outputs": [
    {
     "name": "stdin",
     "output_type": "stream",
     "text": [
      " enter the number 46\n"
     ]
    },
    {
     "name": "stdout",
     "output_type": "stream",
     "text": [
      "4\n",
      "10\n"
     ]
    }
   ],
   "source": [
    "#  program  12. sum of digits\n",
    "n = int(input(' enter the number'))\n",
    "sum = 0\n",
    "for i in str(n):\n",
    "    sum+=int(i)\n",
    "    print('%d' %(sum))"
   ]
  },
  {
   "cell_type": "code",
   "execution_count": 76,
   "id": "b29a3f59-8d33-4a1a-875f-fe4f30fb3281",
   "metadata": {},
   "outputs": [
    {
     "name": "stdin",
     "output_type": "stream",
     "text": [
      "enter your first name Christy\n",
      "enter your last name sara\n"
     ]
    },
    {
     "name": "stdout",
     "output_type": "stream",
     "text": [
      " Hy Christy sara, how are you?\n"
     ]
    }
   ],
   "source": [
    "# program  13.  display name  &  greeting\n",
    "fname = input('enter your first name')\n",
    "lname = input('enter your last name')\n",
    "fullname = fname + ' ' + lname\n",
    "print(' Hy %s, how are you?' %(fullname))"
   ]
  },
  {
   "cell_type": "code",
   "execution_count": 78,
   "id": "8da65502-60bc-4a73-8750-7d355348d1e3",
   "metadata": {},
   "outputs": [
    {
     "name": "stdin",
     "output_type": "stream",
     "text": [
      "enter the length 5\n",
      "enter the  height 9\n"
     ]
    },
    {
     "name": "stdout",
     "output_type": "stream",
     "text": [
      "Area of triangle is 22\n"
     ]
    }
   ],
   "source": [
    "# program  14. Area of rectangle\n",
    "b = int(input('enter the length'))\n",
    "h = int(input('enter the  height'))\n",
    "Area = 0.5*b*h\n",
    "print('Area of triangle is %d' % (Area))"
   ]
  },
  {
   "cell_type": "code",
   "execution_count": 82,
   "id": "61bf8170-f7d9-4750-9ed7-06a2adb36949",
   "metadata": {},
   "outputs": [
    {
     "name": "stdin",
     "output_type": "stream",
     "text": [
      "year:  2025\n",
      "month:  11\n",
      "day:  01\n"
     ]
    },
    {
     "name": "stdout",
     "output_type": "stream",
     "text": [
      "Date is : 01/11/2025\n"
     ]
    }
   ],
   "source": [
    "# program  15. print date\n",
    "year = input('year: ')\n",
    "month = input('month: ')\n",
    "day = input('day: ')\n",
    "print('Date is :', day +'/'+ month +'/'+ year)"
   ]
  },
  {
   "cell_type": "code",
   "execution_count": 84,
   "id": "3026ed3c-135e-4030-9d2f-ba1893346143",
   "metadata": {},
   "outputs": [
    {
     "name": "stdin",
     "output_type": "stream",
     "text": [
      "year:  2001\n",
      "month:  12\n",
      "day:  18\n"
     ]
    },
    {
     "name": "stdout",
     "output_type": "stream",
     "text": [
      "december  18 2001\n"
     ]
    }
   ],
   "source": [
    "# program  16. print month using the index & date\n",
    "year = input('year: ')\n",
    "month = input('month: ')\n",
    "day = input('day: ')\n",
    "months = ['january', 'february','march','april','may','june','july','august','september','october','november','december']\n",
    "monthindex =  int(month)-1\n",
    "monthoutput = months[monthindex]\n",
    "print(monthoutput + '  ' + day + ' ' + year)"
   ]
  },
  {
   "cell_type": "code",
   "execution_count": 88,
   "id": "8f58f2b4-f976-45a1-9ebd-341ef4127309",
   "metadata": {},
   "outputs": [
    {
     "name": "stdin",
     "output_type": "stream",
     "text": [
      "username monu\n",
      "password 3579\n"
     ]
    },
    {
     "name": "stdout",
     "output_type": "stream",
     "text": [
      "Access  granted\n"
     ]
    }
   ],
   "source": [
    "# program  17.  print a program to enter username & password\n",
    "username = input('username')\n",
    "password = input('password')\n",
    "database = [['appu','1234'], ['monu','3579'] ,['chacko', '1000']]\n",
    "if [username, password] in database:\n",
    "    print('Access  granted')\n",
    "else:\n",
    "    print('Access denied')"
   ]
  },
  {
   "cell_type": "markdown",
   "id": "dc14f914-cf1c-42ba-abc3-91f561786704",
   "metadata": {},
   "source": [
    "#### Loop control statement\n",
    "##### break: exits the loop immediately\n",
    "##### continue: skips the current iteration and continues then\n",
    "##### pass: if the for loop is empty by any chance, add pass statement to avoid error"
   ]
  },
  {
   "cell_type": "code",
   "execution_count": 161,
   "id": "d5b921fa-cae3-40e0-acdd-38adfab2a437",
   "metadata": {},
   "outputs": [
    {
     "name": "stdout",
     "output_type": "stream",
     "text": [
      "apple\n"
     ]
    }
   ],
   "source": [
    "a = ['apple','cherry','lemon']\n",
    "for i in a:\n",
    "    if i=='cherry':\n",
    "        break\n",
    "    print(i)"
   ]
  },
  {
   "cell_type": "code",
   "execution_count": 163,
   "id": "07c55236-ac16-43a8-addc-cc38d680890e",
   "metadata": {},
   "outputs": [
    {
     "name": "stdout",
     "output_type": "stream",
     "text": [
      "apple\n",
      "lemon\n"
     ]
    }
   ],
   "source": [
    "a = ['apple','cherry','lemon']\n",
    "for i in a:\n",
    "    if i=='cherry':\n",
    "        continue\n",
    "    print(i)"
   ]
  },
  {
   "cell_type": "markdown",
   "id": "dd89365a-798e-44b0-9152-375307a0abd5",
   "metadata": {},
   "source": [
    "### Built-in Data structures"
   ]
  },
  {
   "cell_type": "markdown",
   "id": "82215be4-d395-4a0b-af2f-052254cfedb9",
   "metadata": {},
   "source": [
    "| Type    | Description                                    | Example                      |\n",
    "| ------- | ---------------------------------------------- | ---------------------------- |\n",
    "| `List`  | Ordered, changeable, allows duplicates            | `my_list = [1, 2, 3]`        |\n",
    "| `Tuple` | Ordered, **unchangeable**, allows duplicates      | `my_tuple = (1, 2, 3)`       |\n",
    "| `Set`   | **Unordered**,unchangeable,unindexed & no duplicates                   | `my_set = {1, 2, 3}`         |\n",
    "| `Dict`  | (Key-value pairs) ordered, changeable & no duplicates | `my_dict = {'a': 1, 'b': 2}` |\n"
   ]
  },
  {
   "cell_type": "markdown",
   "id": "390c5bc3-2503-44bd-b395-506c8fba8528",
   "metadata": {},
   "source": [
    "### List"
   ]
  },
  {
   "cell_type": "code",
   "execution_count": 27,
   "id": "bba7eceb-dc66-4353-8e83-5fdf0c3e18a7",
   "metadata": {},
   "outputs": [
    {
     "name": "stdout",
     "output_type": "stream",
     "text": [
      "lemon\n",
      "3\n"
     ]
    },
    {
     "data": {
      "text/plain": [
       "['lemon', 'cherry']"
      ]
     },
     "execution_count": 27,
     "metadata": {},
     "output_type": "execute_result"
    }
   ],
   "source": [
    "x=['apple','lemon','cherry']\n",
    "print(x[1])                      #indexing\n",
    "print(len(x))                    #length\n",
    "x[1:3]"
   ]
  },
  {
   "cell_type": "markdown",
   "id": "f17e4a6b-e1de-4592-bc56-9b8f9858adf4",
   "metadata": {},
   "source": [
    "#### List methods"
   ]
  },
  {
   "cell_type": "code",
   "execution_count": 39,
   "id": "fd272458-af6a-4509-92e7-b5646ed3405e",
   "metadata": {},
   "outputs": [
    {
     "name": "stdout",
     "output_type": "stream",
     "text": [
      "['apple', 'cherry', 'pineapple']\n"
     ]
    }
   ],
   "source": [
    "# 1. append()  add an item at the end of list\n",
    "x=['apple','cherry']\n",
    "x.append('pineapple')\n",
    "print(x)"
   ]
  },
  {
   "cell_type": "code",
   "execution_count": 41,
   "id": "a2699474-95b6-45be-b191-6762248f42b9",
   "metadata": {},
   "outputs": [
    {
     "name": "stdout",
     "output_type": "stream",
     "text": [
      "['apple', 'orange', 'cherry']\n"
     ]
    }
   ],
   "source": [
    "# 2. insert() a new item will be added without replacing existing one\n",
    "x=['apple','cherry']\n",
    "x.insert(1,'orange')\n",
    "print(x)"
   ]
  },
  {
   "cell_type": "code",
   "execution_count": 35,
   "id": "6053851f-f157-4db5-b1f8-cdff2a852793",
   "metadata": {},
   "outputs": [
    {
     "name": "stdout",
     "output_type": "stream",
     "text": [
      "['apple', 'cherry', 'lemon', 'berry']\n"
     ]
    }
   ],
   "source": [
    "# 3.extend() appends a new list(tuple also) to the existing list \n",
    "x=['apple','cherry']\n",
    "y=['lemon','berry']\n",
    "x.extend(y)\n",
    "print(x)"
   ]
  },
  {
   "cell_type": "code",
   "execution_count": 77,
   "id": "6d3cc31f-9ff4-4144-ab2d-07e759ae4d2d",
   "metadata": {},
   "outputs": [
    {
     "name": "stdout",
     "output_type": "stream",
     "text": [
      "['apple', 'cherry', 'lemon', 'berry']\n"
     ]
    }
   ],
   "source": [
    "# two lists can joing using +\n",
    "x=['apple','cherry']\n",
    "y=['lemon','berry']\n",
    "z= x+y\n",
    "print(z)"
   ]
  },
  {
   "cell_type": "code",
   "execution_count": 45,
   "id": "9e6c0dce-9840-45d4-ad80-31437e9aae06",
   "metadata": {},
   "outputs": [
    {
     "name": "stdout",
     "output_type": "stream",
     "text": [
      "['lemon', 'cherry', 'apple']\n"
     ]
    }
   ],
   "source": [
    "# 4. remove() removes the item. If more than one is there, remove the 1st.\n",
    "x=['apple','lemon','cherry','apple']\n",
    "x.remove('apple')\n",
    "print(x)"
   ]
  },
  {
   "cell_type": "code",
   "execution_count": 47,
   "id": "f36b06fe-a0ff-45dd-b23b-970793c0d14e",
   "metadata": {},
   "outputs": [
    {
     "name": "stdout",
     "output_type": "stream",
     "text": [
      "['melon', 'cherry']\n"
     ]
    }
   ],
   "source": [
    "# 5. pop() removes the specified index\n",
    "x=['melon','orange','cherry']\n",
    "x.pop(1)\n",
    "print(x)"
   ]
  },
  {
   "cell_type": "code",
   "execution_count": 75,
   "id": "ee977313-c45e-4c72-aa68-4f3d8a95c760",
   "metadata": {},
   "outputs": [
    {
     "name": "stdout",
     "output_type": "stream",
     "text": [
      "['orange', 'cherry']\n"
     ]
    }
   ],
   "source": [
    "# del keyword also removes specified index\n",
    "x=['melon','orange','cherry']\n",
    "del x[0]\n",
    "print(x)"
   ]
  },
  {
   "cell_type": "code",
   "execution_count": 49,
   "id": "e4f2e8d6-2c9a-4782-9810-cd612c4997dc",
   "metadata": {},
   "outputs": [
    {
     "name": "stdout",
     "output_type": "stream",
     "text": [
      "[]\n"
     ]
    }
   ],
   "source": [
    "# 6. clear() empties the list\n",
    "x=['melon','orange','cherry']\n",
    "x.clear()\n",
    "print(x)"
   ]
  },
  {
   "cell_type": "code",
   "execution_count": 55,
   "id": "7606da11-9e26-4e7a-a2dc-15c3cdbc391e",
   "metadata": {},
   "outputs": [
    {
     "name": "stdout",
     "output_type": "stream",
     "text": [
      "['cherry', 'melon', 'orange']\n",
      "[1, 59, 94, 155]\n",
      "['orange', 'melon', 'cherry']\n",
      "[155, 94, 59, 1]\n"
     ]
    }
   ],
   "source": [
    "# 7. sort() sorts the list albhanumerically ascending\n",
    "x=['melon','orange','cherry']\n",
    "x.sort()\n",
    "print(x)\n",
    "y = [155, 59, 94,1]\n",
    "y.sort()\n",
    "print(y)\n",
    "\n",
    "# sorting descending use keyword 'reverse=True'\n",
    "x=['melon','orange','cherry']\n",
    "x.sort(reverse=True)\n",
    "print(x)\n",
    "y = [155, 59, 94,1]\n",
    "y.sort(reverse=True)\n",
    "print(y)"
   ]
  },
  {
   "cell_type": "code",
   "execution_count": 57,
   "id": "f3018597-4122-4af9-be2d-7d80349d9884",
   "metadata": {},
   "outputs": [
    {
     "name": "stdout",
     "output_type": "stream",
     "text": [
      "['cherry', 'lemon', 'apple']\n"
     ]
    }
   ],
   "source": [
    "# 8. reverse() reverses the current order\n",
    "x=['apple','lemon','cherry']\n",
    "x.reverse()\n",
    "print(x)"
   ]
  },
  {
   "cell_type": "code",
   "execution_count": 63,
   "id": "a9053824-4f76-48e5-9cb8-f83cf7bf2ee3",
   "metadata": {},
   "outputs": [
    {
     "name": "stdout",
     "output_type": "stream",
     "text": [
      "['apple', 'lemon', 'cherry']\n"
     ]
    }
   ],
   "source": [
    "# 9. copy() copies a list\n",
    "x=['apple','lemon','cherry']\n",
    "y=x.copy()                     # y=list(x) & y=x[:] also copies the list\n",
    "print(y)"
   ]
  },
  {
   "cell_type": "code",
   "execution_count": 71,
   "id": "4e107135-ab5f-4a5d-a206-1f5331fe8fc3",
   "metadata": {},
   "outputs": [
    {
     "name": "stdout",
     "output_type": "stream",
     "text": [
      "3\n"
     ]
    }
   ],
   "source": [
    "# 10. count() returns no. of times a specified item appears\n",
    "x=['apple','lemon','cherry', 'apple', 'cherry','apple']\n",
    "print(x.count('apple'))"
   ]
  },
  {
   "cell_type": "code",
   "execution_count": 73,
   "id": "b1902c5a-08a0-47c2-a4f2-bef89b120174",
   "metadata": {},
   "outputs": [
    {
     "name": "stdout",
     "output_type": "stream",
     "text": [
      "2\n"
     ]
    }
   ],
   "source": [
    "# 11. index() returns the 1st indes of the specified item\n",
    "x=['lemon','cherry', 'apple', 'cherry','apple']\n",
    "print(x.index('apple'))"
   ]
  },
  {
   "cell_type": "markdown",
   "id": "dc3d58d6-94fd-4fc1-a797-c0189625e0c4",
   "metadata": {},
   "source": [
    "### Tuple"
   ]
  },
  {
   "cell_type": "code",
   "execution_count": 84,
   "id": "60d8da55-2850-4df5-8c22-7969ab918695",
   "metadata": {},
   "outputs": [
    {
     "name": "stdout",
     "output_type": "stream",
     "text": [
      "banana\n",
      "3\n",
      "('apple', 'banana')\n"
     ]
    }
   ],
   "source": [
    "a=('apple','banana','plum')\n",
    "print(a[1])\n",
    "print(len(a))\n",
    "print(a[-3:-1])"
   ]
  },
  {
   "cell_type": "code",
   "execution_count": 100,
   "id": "e0e67cf0-1659-479e-b23f-0bc70aa0ec49",
   "metadata": {},
   "outputs": [
    {
     "name": "stdout",
     "output_type": "stream",
     "text": [
      "('apple', 'banana', 'plum', 'lemon')\n"
     ]
    }
   ],
   "source": [
    "x=('apple','banana','plum')\n",
    "y=('lemon',)   # ',' should keep it in the end compulsory or it will become a string.\n",
    "x+=y\n",
    "print(x)"
   ]
  },
  {
   "cell_type": "markdown",
   "id": "b6f0c92a-bf34-44ce-aa88-899e5a3348e7",
   "metadata": {},
   "source": [
    "##### Tuple is unchangeable (immutable). But, you can convert the tuple into list, change the list & convert it back into tuple."
   ]
  },
  {
   "cell_type": "code",
   "execution_count": 90,
   "id": "b9242f94-6d0f-4a5e-86ce-2c2d4334263c",
   "metadata": {},
   "outputs": [
    {
     "name": "stdout",
     "output_type": "stream",
     "text": [
      "['apple', 'orange', 'plum']\n"
     ]
    }
   ],
   "source": [
    "# example:\n",
    "x=('apple','banana','plum')\n",
    "y=list(x)\n",
    "y[1]='orange'\n",
    "x=tuple(y)\n",
    "print(y)"
   ]
  },
  {
   "cell_type": "code",
   "execution_count": 92,
   "id": "e2181474-4e13-42a8-83fa-1f4135d73815",
   "metadata": {},
   "outputs": [
    {
     "name": "stdout",
     "output_type": "stream",
     "text": [
      "('apple', 'banana', 'plum', 'cherry')\n"
     ]
    }
   ],
   "source": [
    "# append\n",
    "x=('apple','banana','plum')\n",
    "y=list(x)\n",
    "y.append('cherry')\n",
    "x=tuple(y)\n",
    "print(x)"
   ]
  },
  {
   "cell_type": "code",
   "execution_count": 94,
   "id": "04604369-963f-43ae-9776-509e987506c7",
   "metadata": {},
   "outputs": [
    {
     "name": "stdout",
     "output_type": "stream",
     "text": [
      "('banana', 'plum')\n"
     ]
    }
   ],
   "source": [
    "# remove()\n",
    "x=('apple','banana','plum')\n",
    "y=list(x)\n",
    "y.remove('apple')\n",
    "x=tuple(y)\n",
    "print(x)"
   ]
  },
  {
   "cell_type": "code",
   "execution_count": 111,
   "id": "a1f061cb-164b-477c-a576-10c4fc32b5c5",
   "metadata": {},
   "outputs": [],
   "source": [
    "# del keyword deletes the tuple completely\n",
    "x=('apple','banana','plum')\n",
    "del x"
   ]
  },
  {
   "cell_type": "markdown",
   "id": "bb25ad83-9a07-4529-8555-953221f7381a",
   "metadata": {},
   "source": [
    "##### unpacking a variable: When we create a tuple, we normally assign values to it; it is called 'Packing'. Extracting these values back into variables can be done in python, this is called 'unpacking'."
   ]
  },
  {
   "cell_type": "code",
   "execution_count": 116,
   "id": "a86a067c-cb30-44dd-9f8b-02b81ce6b820",
   "metadata": {},
   "outputs": [
    {
     "name": "stdout",
     "output_type": "stream",
     "text": [
      "apple\n",
      "banana\n",
      "plum\n"
     ]
    }
   ],
   "source": [
    "# example:\n",
    "x=('apple','banana','plum')\n",
    "(red, yellow, orange) = x\n",
    "print(red)\n",
    "print(yellow)\n",
    "print(orange)"
   ]
  },
  {
   "cell_type": "markdown",
   "id": "387fc55e-b5bb-4f0a-a8b1-044f3e521ff3",
   "metadata": {},
   "source": [
    "#### Usage of Asterisk (*)\n",
    "##### If the no.of variables is less than the no.of values, add '*' to the variable name and the values will be assigned to the variable as a list."
   ]
  },
  {
   "cell_type": "code",
   "execution_count": 122,
   "id": "40db2049-691b-4a26-83f4-9146b71de2a1",
   "metadata": {},
   "outputs": [
    {
     "name": "stdout",
     "output_type": "stream",
     "text": [
      "apple\n",
      "['banana', 'lemon']\n",
      "orange\n"
     ]
    }
   ],
   "source": [
    "# example:\n",
    "x=('apple','banana','lemon','orange')\n",
    "(red, *yellow, orange) = x\n",
    "print(red)\n",
    "print(yellow)\n",
    "print(orange)"
   ]
  },
  {
   "cell_type": "markdown",
   "id": "88c16375-d10b-425d-99ed-01bdcd8c16b3",
   "metadata": {},
   "source": [
    "#### Tuple methods"
   ]
  },
  {
   "cell_type": "code",
   "execution_count": 125,
   "id": "0e693627-b19f-4e51-bf8d-fb24225f6fed",
   "metadata": {},
   "outputs": [
    {
     "name": "stdout",
     "output_type": "stream",
     "text": [
      "2\n"
     ]
    }
   ],
   "source": [
    "# 1. count() returns the no.of times a value occurs\n",
    "x = ('apple','banana','lemon','apple')\n",
    "print(x.count('apple'))"
   ]
  },
  {
   "cell_type": "code",
   "execution_count": 131,
   "id": "ec07efb5-ee51-49c9-919d-7309a5013564",
   "metadata": {},
   "outputs": [
    {
     "name": "stdout",
     "output_type": "stream",
     "text": [
      "2\n"
     ]
    }
   ],
   "source": [
    "# 2. index() returns the index no. of 1st occurence\n",
    "y = (5,6,3,7,3,9)\n",
    "print(y.index(3))"
   ]
  },
  {
   "cell_type": "markdown",
   "id": "96a109b3-ca10-4af4-a763-1711fa36801e",
   "metadata": {},
   "source": [
    "### Set"
   ]
  },
  {
   "cell_type": "code",
   "execution_count": 140,
   "id": "35e8690e-9bbd-449d-b05b-55f6a1f0ed7c",
   "metadata": {},
   "outputs": [
    {
     "name": "stdout",
     "output_type": "stream",
     "text": [
      "{True, 'apple', 'banana'}\n",
      "3\n"
     ]
    }
   ],
   "source": [
    "x = {'apple',True, 1, 'banana'}        # True and 1 are same in set, same as False and 0\n",
    "print(x)\n",
    "print(len(x))"
   ]
  },
  {
   "cell_type": "markdown",
   "id": "316f6aa9-9070-4807-903b-35091b2a147d",
   "metadata": {},
   "source": [
    "##### we cannot access the items in the set using the index or a key. But, we can use for loop and print the items in the set."
   ]
  },
  {
   "cell_type": "code",
   "execution_count": 146,
   "id": "cdba65b0-0470-4c50-9580-0cf2ab4526f8",
   "metadata": {},
   "outputs": [
    {
     "name": "stdout",
     "output_type": "stream",
     "text": [
      "plum\n",
      "apple\n",
      "lemon\n"
     ]
    }
   ],
   "source": [
    "# example:\n",
    "a = {'apple','lemon','plum'}\n",
    "for x in a:\n",
    "    print(x)           # since the set is unordered,the output is not in order"
   ]
  },
  {
   "cell_type": "markdown",
   "id": "f4eb647f-4c86-4745-b7eb-d4b140fabcd9",
   "metadata": {},
   "source": [
    "#### Set methods"
   ]
  },
  {
   "cell_type": "code",
   "execution_count": 151,
   "id": "da271479-9356-4b6e-b970-8e8c2d911852",
   "metadata": {},
   "outputs": [
    {
     "name": "stdout",
     "output_type": "stream",
     "text": [
      "{'plum', 'apple', 'lemon'}\n"
     ]
    }
   ],
   "source": [
    "# 1. add()\n",
    "a = {'apple','lemon'}\n",
    "a.add('plum')\n",
    "print(a)"
   ]
  },
  {
   "cell_type": "code",
   "execution_count": 185,
   "id": "bb9d2e68-be34-44bd-893b-e9849db793d7",
   "metadata": {},
   "outputs": [
    {
     "name": "stdout",
     "output_type": "stream",
     "text": [
      "{'cherry', 'apple', 'lemon'}\n"
     ]
    }
   ],
   "source": [
    "# 2. update() adding 2 sets(can be list, tuple,..) into one\n",
    "a= {'apple','lemon'}\n",
    "b= {'cherry','lemon'}\n",
    "a.update(b)\n",
    "print(a)"
   ]
  },
  {
   "cell_type": "code",
   "execution_count": 163,
   "id": "a6aae064-7ca8-4d68-9aa0-5e7b162364fe",
   "metadata": {},
   "outputs": [
    {
     "name": "stdout",
     "output_type": "stream",
     "text": [
      "{'lemon'}\n"
     ]
    }
   ],
   "source": [
    "# 3. discard() deletes the item    # clear(), pop(), remove(), del is also used \n",
    "a= {'apple','lemon'}\n",
    "a.discard('apple')\n",
    "print(a)"
   ]
  },
  {
   "cell_type": "code",
   "execution_count": 235,
   "id": "857a0f37-ca0a-472d-b047-ee6582694175",
   "metadata": {},
   "outputs": [
    {
     "name": "stdout",
     "output_type": "stream",
     "text": [
      "{'a', 'b', 'c'}\n"
     ]
    }
   ],
   "source": [
    "# 4. copy() copies the set\n",
    "a= {'a','b','c'}\n",
    "x= a.copy()\n",
    "print(x)"
   ]
  },
  {
   "cell_type": "code",
   "execution_count": 241,
   "id": "3ac9d2c6-2158-46f3-bda4-10049cbd1b46",
   "metadata": {},
   "outputs": [
    {
     "name": "stdout",
     "output_type": "stream",
     "text": [
      "False\n"
     ]
    }
   ],
   "source": [
    "# 5. isdisjoint()  returns True if items from 1st set are not present in 2nd. Otherwise, False\n",
    "a= {'apple','kiwi','lemon'}\n",
    "b= {'mango','lemon'}\n",
    "x= a.isdisjoint(b)\n",
    "print(x)"
   ]
  },
  {
   "cell_type": "markdown",
   "id": "d4da8be8-5a21-4413-ab19-3c17c18d788b",
   "metadata": {},
   "source": [
    "#### Join sets methods"
   ]
  },
  {
   "cell_type": "code",
   "execution_count": 227,
   "id": "0664a392-0769-462c-87a7-85c8fb5a0158",
   "metadata": {},
   "outputs": [
    {
     "name": "stdout",
     "output_type": "stream",
     "text": [
      "{1, 'apple', 5, 8, 'john', 'lemon'}\n",
      "{19, 'berry', 45, 'plum'}\n"
     ]
    }
   ],
   "source": [
    "# 1. union()  (|)   returns a new set with items of both the sets\n",
    "a= {'apple','lemon'}\n",
    "b= {1,8,5}\n",
    "c={'john'}\n",
    "x= a.union(b,c)                    # same as x= a|b \n",
    "print(x)\n",
    "\n",
    "# join set with another datatype\n",
    "d= {'berry','plum'}\n",
    "e= [19,45]\n",
    "y= d.union(e)                     #| doesnt allow to join a set with another datatype\n",
    "print(y)"
   ]
  },
  {
   "cell_type": "code",
   "execution_count": 201,
   "id": "d81651a5-7fda-4aab-a6d0-4750652f3406",
   "metadata": {},
   "outputs": [
    {
     "name": "stdout",
     "output_type": "stream",
     "text": [
      "{2, 3}\n"
     ]
    }
   ],
   "source": [
    "# 2. intersection() (&)   returns a new set with items that are present in both sets\n",
    "a= {2,8,4,3}\n",
    "b={9,7,3,1,2}\n",
    "x= a.intersection(b)           # x= a&b\n",
    "print(x)                       # does not join set with another dtype"
   ]
  },
  {
   "cell_type": "code",
   "execution_count": 205,
   "id": "6666eb1d-d83e-4c94-97c0-0341ff720b20",
   "metadata": {},
   "outputs": [
    {
     "name": "stdout",
     "output_type": "stream",
     "text": [
      "{'c'}\n"
     ]
    }
   ],
   "source": [
    "# 3. intersection_update()  changes the original set, and keep only the common items from both sets\n",
    "a= {'a','d','c'}\n",
    "b={'e','c','b'}\n",
    "a.intersection_update(b)\n",
    "print(a)\n"
   ]
  },
  {
   "cell_type": "code",
   "execution_count": 209,
   "id": "30808bba-1b5d-4c66-b708-5c422353f687",
   "metadata": {},
   "outputs": [
    {
     "name": "stdout",
     "output_type": "stream",
     "text": [
      "{'plum'}\n"
     ]
    }
   ],
   "source": [
    "# 4. Difference()  (-)          returns new set which contain items from 1st set that are not present in 2nd.\n",
    "a = {'apple','lemon','plum'}\n",
    "b = {'berry','apple','lemon'}\n",
    "x = a.difference(b)              # x =a-b\n",
    "print(x)"
   ]
  },
  {
   "cell_type": "code",
   "execution_count": 221,
   "id": "372d2ad7-9966-4128-860c-fd176bbdff0c",
   "metadata": {},
   "outputs": [
    {
     "name": "stdout",
     "output_type": "stream",
     "text": [
      "{'plum', 'lemon'}\n"
     ]
    }
   ],
   "source": [
    "# 5. difference_update()         changes the original set, keep the items of 1st set that are not present in both set\n",
    "a = {'apple','lemon','plum'}\n",
    "b = {'berry','apple'}\n",
    "a.difference_update(b)             \n",
    "print(a)"
   ]
  },
  {
   "cell_type": "code",
   "execution_count": 229,
   "id": "075314e3-b72a-4b9b-95f8-8ca33953d36b",
   "metadata": {},
   "outputs": [
    {
     "name": "stdout",
     "output_type": "stream",
     "text": [
      "{3, 4, 12, 15}\n"
     ]
    }
   ],
   "source": [
    "# 6. symmetric_difference()   (^)    returns new set with items that are not common in both sets\n",
    "a = { 12, 6, 3, 8}\n",
    "b = {6, 4, 8, 15}\n",
    "x = a.symmetric_difference(b)\n",
    "print(x)"
   ]
  },
  {
   "cell_type": "code",
   "execution_count": 231,
   "id": "0c0a82d6-a788-4b79-bc1b-0b007b701c8f",
   "metadata": {},
   "outputs": [
    {
     "name": "stdout",
     "output_type": "stream",
     "text": [
      "{'mango', 'kiwi'}\n"
     ]
    }
   ],
   "source": [
    "# 7. symmetric_difference_update()   changes the original set with items that are not in both sets\n",
    "a = {'kiwi','orange','melon'}\n",
    "b = {'orange','mango','melon' }\n",
    "a.symmetric_difference_update(b)\n",
    "print(a)"
   ]
  },
  {
   "cell_type": "markdown",
   "id": "121cc331-6540-4e29-81c7-f2344232f756",
   "metadata": {},
   "source": [
    "### Dictionary"
   ]
  },
  {
   "cell_type": "code",
   "execution_count": 7,
   "id": "8cc4c850-bb9a-49f6-a510-6e739e40f10e",
   "metadata": {},
   "outputs": [
    {
     "name": "stdout",
     "output_type": "stream",
     "text": [
      "{'brand': 'ford', 'model': 'mustang', 'year': 1989}\n",
      "3\n",
      "ford\n"
     ]
    }
   ],
   "source": [
    "a = {'brand':'ford','model':'mustang','year':1989}       # key:value\n",
    "print(a)\n",
    "print(len(a))\n",
    "print(a['brand'])"
   ]
  },
  {
   "cell_type": "markdown",
   "id": "fa5d03ea-f182-4d4e-8b88-782fb7e9c6cc",
   "metadata": {},
   "source": [
    "#### Dict methods"
   ]
  },
  {
   "cell_type": "code",
   "execution_count": 13,
   "id": "5bd68335-642a-4699-bbb2-ff2185ed46f5",
   "metadata": {},
   "outputs": [
    {
     "name": "stdout",
     "output_type": "stream",
     "text": [
      "{'brand': 'ford', 'color': 'red'}\n"
     ]
    }
   ],
   "source": [
    "# 1. update() add new items into the dict\n",
    "a={'brand':'ford'}\n",
    "a.update({'color':'red'})\n",
    "print(a)"
   ]
  },
  {
   "cell_type": "code",
   "execution_count": 19,
   "id": "c9779496-d8bf-4200-82bf-c39c4819d4ce",
   "metadata": {},
   "outputs": [
    {
     "name": "stdout",
     "output_type": "stream",
     "text": [
      "{'brand': 'ford', 'color': 'red'}\n"
     ]
    }
   ],
   "source": [
    "# direct method to add items in dict\n",
    "a={'brand':'ford'}\n",
    "a['color']='red'\n",
    "print(a)"
   ]
  },
  {
   "cell_type": "code",
   "execution_count": 33,
   "id": "1ad603a3-1455-48dc-b866-1509dee3dd63",
   "metadata": {},
   "outputs": [
    {
     "name": "stdout",
     "output_type": "stream",
     "text": [
      "{'model': 'mustang'}\n",
      "{'brand': 'ford'}\n"
     ]
    }
   ],
   "source": [
    "# 2. pop() removes specified items\n",
    "a={'brand':'ford','model':'mustang'}\n",
    "a.pop('brand')\n",
    "print(a)\n",
    "\n",
    "# 3. popitem()    removes last inserted item\n",
    "a={'brand':'ford','model':'mustang'}\n",
    "a.popitem()\n",
    "print(a)\n",
    "\n",
    "# other method to remove items is del keyword; del and clear() empties the dict also. NOTE: remove() wont support in dict."
   ]
  },
  {
   "cell_type": "code",
   "execution_count": 39,
   "id": "88527694-6a37-4f8c-a783-367bcd2e5ccd",
   "metadata": {},
   "outputs": [
    {
     "name": "stdout",
     "output_type": "stream",
     "text": [
      "{'brand': 'ford', 'year': 1989}\n"
     ]
    }
   ],
   "source": [
    "# 4. copy()\n",
    "a= {'brand':'ford','year':1989}\n",
    "b= a.copy()\n",
    "print(b)"
   ]
  },
  {
   "cell_type": "markdown",
   "id": "6c682d47-7f97-4670-ab7e-6675bb5ab111",
   "metadata": {},
   "source": [
    "#### other important methods in dict: "
   ]
  },
  {
   "cell_type": "code",
   "execution_count": 43,
   "id": "f401ffbf-d253-4023-83d7-6a9e7dd2657e",
   "metadata": {},
   "outputs": [
    {
     "name": "stdout",
     "output_type": "stream",
     "text": [
      "ford\n"
     ]
    }
   ],
   "source": [
    "# 5. get() returs the values by refering its keys inside sq.brackets\n",
    "a= {'brand':'ford','year':1989}\n",
    "print(a.get('brand'))"
   ]
  },
  {
   "cell_type": "code",
   "execution_count": 45,
   "id": "48e743de-142c-4a89-84bb-aa2b1375d54c",
   "metadata": {},
   "outputs": [
    {
     "name": "stdout",
     "output_type": "stream",
     "text": [
      "dict_keys(['brand', 'year'])\n"
     ]
    }
   ],
   "source": [
    "# 6. keys() returs keys in the dict\n",
    "a= {'brand':'ford','year':1989}\n",
    "print(a.keys())"
   ]
  },
  {
   "cell_type": "code",
   "execution_count": 47,
   "id": "a6ac51f9-426d-4d16-b8ae-94ac6ed78e3e",
   "metadata": {},
   "outputs": [
    {
     "name": "stdout",
     "output_type": "stream",
     "text": [
      "dict_values(['ford', 1989])\n"
     ]
    }
   ],
   "source": [
    "# 7. values() returs the values in the dict\n",
    "a= {'brand':'ford','year':1989}\n",
    "print(a.values())"
   ]
  },
  {
   "cell_type": "code",
   "execution_count": 49,
   "id": "43cc1f21-c291-40d3-90a6-cf58a0411c98",
   "metadata": {},
   "outputs": [
    {
     "name": "stdout",
     "output_type": "stream",
     "text": [
      "dict_items([('brand', 'ford'), ('year', 1989)])\n"
     ]
    }
   ],
   "source": [
    "# 8. items() each items in a dict as tuples in a list\n",
    "a= {'brand':'ford','year':1989}\n",
    "print(a.items())"
   ]
  },
  {
   "cell_type": "code",
   "execution_count": 51,
   "id": "66128fdd-4df1-4d97-9041-2a8d6ea804e7",
   "metadata": {},
   "outputs": [
    {
     "name": "stdout",
     "output_type": "stream",
     "text": [
      "no\n"
     ]
    }
   ],
   "source": [
    "# 9. 'in' keyword to determine a specific key in dict\n",
    "a= {'brand':'ford','year':1989}\n",
    "if 'model' in a:\n",
    "    print('yes')\n",
    "else:\n",
    "    print('no')"
   ]
  },
  {
   "cell_type": "markdown",
   "id": "029e08f4-e601-4619-a671-101c8d2eb40e",
   "metadata": {},
   "source": [
    "## Functions  in  python"
   ]
  },
  {
   "cell_type": "markdown",
   "id": "cf4719a0-b8cd-4720-8097-aa19d14fc81f",
   "metadata": {},
   "source": [
    "##### To create a function, use def keyword\n",
    "##### To call a function, use function name along with ()\n",
    "##### Information passed into functions is arguments or parameters. (variables: parameters and actual  values: arguments)"
   ]
  },
  {
   "cell_type": "code",
   "execution_count": 11,
   "id": "2f37fad8-aab9-4904-af1a-b73eb7f66031",
   "metadata": {},
   "outputs": [
    {
     "name": "stdout",
     "output_type": "stream",
     "text": [
      "Emil Lois\n",
      "Peter Lois\n"
     ]
    }
   ],
   "source": [
    "# example\n",
    "def myfunction(fname):\n",
    "    print(fname +\" \"+ 'Lois')\n",
    "myfunction('Emil')\n",
    "myfunction('Peter')\n"
   ]
  },
  {
   "cell_type": "markdown",
   "id": "60f7087f-d031-4cc6-b0aa-2f9850e7b86f",
   "metadata": {},
   "source": [
    "### Arbitary arguments (* args)\n",
    "##### A function must be called with correct no. of arguments, or else, error will happen.  If we don't know how many arguments will be passed, use * operator before parameter name in function definition."
   ]
  },
  {
   "cell_type": "code",
   "execution_count": 20,
   "id": "88e6fe1d-b418-4a49-8c09-80a517b5c6fe",
   "metadata": {},
   "outputs": [
    {
     "name": "stdout",
     "output_type": "stream",
     "text": [
      "The youngest child is Peter\n"
     ]
    }
   ],
   "source": [
    "# example\n",
    "def myfunction(* kids):\n",
    "    print('The youngest child is '+  kids[1])\n",
    "myfunction('Emil','Peter','Tobias')                     # treated as tuple "
   ]
  },
  {
   "cell_type": "markdown",
   "id": "6b26d44a-6ff6-4d87-8653-f5f791e92ba5",
   "metadata": {},
   "source": [
    "#### Arbitary  keyword  arguments  (** kwargs)\n",
    "##### Use ** if we don't know how many keyword arguments are passed.  name = value pairs"
   ]
  },
  {
   "cell_type": "code",
   "execution_count": 27,
   "id": "136274f3-9a90-4d7d-aff3-db85637e1879",
   "metadata": {},
   "outputs": [
    {
     "name": "stdout",
     "output_type": "stream",
     "text": [
      "His last name is sara\n"
     ]
    }
   ],
   "source": [
    "def myfunction(** kwargs):\n",
    "    print('His last name is '+ kwargs['lname'])\n",
    "myfunction(fname = 'riya', lname = 'sara')"
   ]
  },
  {
   "cell_type": "markdown",
   "id": "aa821b4c-45d8-4c4c-b63d-f3d7f4eaeb33",
   "metadata": {},
   "source": [
    "##### Function with return value"
   ]
  },
  {
   "cell_type": "code",
   "execution_count": 33,
   "id": "18fbfee1-77d6-4e80-8fcc-b0f2705fe549",
   "metadata": {},
   "outputs": [
    {
     "name": "stdout",
     "output_type": "stream",
     "text": [
      "Result:  18\n"
     ]
    }
   ],
   "source": [
    "def multiply(x,y):\n",
    "    return x*y\n",
    "print('Result: ', multiply(3,6))"
   ]
  },
  {
   "cell_type": "markdown",
   "id": "826d0674-ded9-4d97-a898-0ab2d15e6405",
   "metadata": {},
   "source": [
    "### Recursion"
   ]
  },
  {
   "cell_type": "markdown",
   "id": "3cdeba1a-c811-4344-913e-19b29d33fe6a",
   "metadata": {},
   "source": [
    "Recursion is a function that calls itself to solve a problem. Every recursive function has,\n",
    "Base case: when to stop condition(so it won’t call itself forever)\n",
    "Recursive case: part where function calls itself"
   ]
  },
  {
   "cell_type": "code",
   "execution_count": 92,
   "id": "41033561-8063-4e31-bdbf-a965f575b58e",
   "metadata": {},
   "outputs": [
    {
     "name": "stdin",
     "output_type": "stream",
     "text": [
      "enter the limit: 7\n"
     ]
    },
    {
     "name": "stdout",
     "output_type": "stream",
     "text": [
      "28\n"
     ]
    }
   ],
   "source": [
    "# program 18. sum of n natural nums using recursion.\n",
    "def sum(n):\n",
    "    if n==0:                                          #base case\n",
    "        return 0\n",
    "    else:\n",
    "        return n+sum(n-1)                            #recursive case\n",
    "limit = int(input('enter the limit:'))\n",
    "print(sum(limit))"
   ]
  },
  {
   "cell_type": "code",
   "execution_count": 98,
   "id": "3c1f0c62-1ba6-4768-b7bd-5794f2960057",
   "metadata": {},
   "outputs": [
    {
     "name": "stdout",
     "output_type": "stream",
     "text": [
      "120\n"
     ]
    }
   ],
   "source": [
    "# program 19. Factorial using recursion\n",
    "def factorial(n):\n",
    "    if n==0 or  n==1:\n",
    "        return 1\n",
    "    else:\n",
    "        return n* factorial(n-1)\n",
    "print(factorial(5))"
   ]
  },
  {
   "cell_type": "code",
   "execution_count": 104,
   "id": "c7cab02b-c16a-46bd-9c78-54c572b287ab",
   "metadata": {},
   "outputs": [
    {
     "name": "stdout",
     "output_type": "stream",
     "text": [
      "0 1 1 2 3 5 "
     ]
    }
   ],
   "source": [
    "# program 20. Fibonacci Sequence using recursion.(  fibonacci sequence is  that each number is the sum of the previous 2 nums)\n",
    "def fibonacci(n):\n",
    "    if n<=1:\n",
    "        return n\n",
    "    else:\n",
    "        return fibonacci(n-1) +  fibonacci(n-2)\n",
    "for i in range(6):\n",
    "    print(fibonacci(i),end=' ')"
   ]
  },
  {
   "cell_type": "code",
   "execution_count": 107,
   "id": "1745b281-4f54-478a-8237-a271d1a31b47",
   "metadata": {},
   "outputs": [
    {
     "name": "stdout",
     "output_type": "stream",
     "text": [
      "6\n"
     ]
    }
   ],
   "source": [
    "# program 21. find the maximum of 3 nums using recursion\n",
    "def  maxoftwo(x,y):\n",
    "    if x>y:\n",
    "        return x\n",
    "    else:\n",
    "        return y\n",
    "def maxofthree(x,y,z):\n",
    "    return maxoftwo(x,maxoftwo(y,z))\n",
    "print(maxofthree(2,6,5))"
   ]
  },
  {
   "cell_type": "code",
   "execution_count": 113,
   "id": "b3e25cb4-c1c7-44cd-82b4-aed15895a61e",
   "metadata": {},
   "outputs": [
    {
     "name": "stdout",
     "output_type": "stream",
     "text": [
      "55\n"
     ]
    }
   ],
   "source": [
    "# program 22. find sum of all the nums in a given tuple\n",
    "def sum(numbers):\n",
    "    total = 0\n",
    "    for x in numbers:\n",
    "        total+=x\n",
    "    return total\n",
    "print(sum((8,3,5,17,0,22)))"
   ]
  },
  {
   "cell_type": "markdown",
   "id": "477d94e0-9431-4f02-bacd-6a39aea55b56",
   "metadata": {},
   "source": [
    "##### Lambda function"
   ]
  },
  {
   "cell_type": "markdown",
   "id": "198e872c-4c99-4ad7-93b0-06d3d4b63230",
   "metadata": {},
   "source": [
    "A lambda function is  a  small anonymous function (function without name).\n",
    "lambda arguments: expression\n",
    "A lambda function can take any no.of arguments,  but it can have only one expression."
   ]
  },
  {
   "cell_type": "code",
   "execution_count": 118,
   "id": "be0d7c4d-8188-4a6d-a6e7-065aa65397e8",
   "metadata": {},
   "outputs": [
    {
     "name": "stdout",
     "output_type": "stream",
     "text": [
      "15\n"
     ]
    }
   ],
   "source": [
    "# example\n",
    "x = lambda  a,b: a*b\n",
    "print(x(5,3))"
   ]
  },
  {
   "cell_type": "code",
   "execution_count": 120,
   "id": "0352e847-6b66-425a-a8ad-2852cb9c5285",
   "metadata": {},
   "outputs": [
    {
     "name": "stdout",
     "output_type": "stream",
     "text": [
      "16\n",
      "33\n"
     ]
    }
   ],
   "source": [
    "# example for lambda fn as an anonymous fn  inside another fn.\n",
    "def function(n):\n",
    "    return lambda a:a*n\n",
    "twotimes = function(2)\n",
    "threetimes = function(3)\n",
    "print(twotimes(8))\n",
    "print(threetimes(11))"
   ]
  },
  {
   "cell_type": "markdown",
   "id": "0ddbc44a-80f2-4ee6-a068-55813dedc952",
   "metadata": {},
   "source": [
    "## Object  Oriented  Programming\n",
    "### classes & objects"
   ]
  },
  {
   "cell_type": "markdown",
   "id": "cc2428d8-d24e-49fc-baa3-3d69bea0e37e",
   "metadata": {},
   "source": [
    "##### Use 'class' keyword to create class. It defines attributes(variables) and methods(functions) that its object will  have.\n",
    "##### An object is an instance  of a class.  we can create multiple objects from a single  class, each with its own data.\n",
    "##### To create object, define a variable and call class name."
   ]
  },
  {
   "cell_type": "code",
   "execution_count": 11,
   "id": "afcca2a1-3b0f-4c10-b0a8-32ddcf15ae8f",
   "metadata": {},
   "outputs": [
    {
     "name": "stdout",
     "output_type": "stream",
     "text": [
      "Black BMW is driving\n",
      "Red Tesla is driving\n"
     ]
    }
   ],
   "source": [
    "# example\n",
    "class Car:                                      # class defining\n",
    "    def __init__(self,brand,color):             #__init__ constructor should call inside the class\n",
    "        self.brand = brand                      # attribute\n",
    "        self.color = color                     \n",
    "\n",
    "    def drive(self):                            # Method\n",
    "        print(f\"{self.color} {self.brand} is driving\")\n",
    "\n",
    "car1 = Car(\"BMW\",\"Black\")                       # create objects\n",
    "car2 = Car(\"Tesla\",\"Red\")\n",
    "\n",
    "car1.drive()                                    #  call method\n",
    "car2.drive()"
   ]
  },
  {
   "cell_type": "markdown",
   "id": "4b632328-6cac-4696-9bce-202340006388",
   "metadata": {},
   "source": [
    " __init__ constructor initializes the new object with any attributes that you want it to have from the start.\n",
    "self must be the first parameter in any class method. it binds attributes to that particular object, so each object has its own data."
   ]
  },
  {
   "cell_type": "code",
   "execution_count": 14,
   "id": "a73ae033-da67-4b96-9ecd-6ae9ecd5488f",
   "metadata": {},
   "outputs": [
    {
     "name": "stdout",
     "output_type": "stream",
     "text": [
      " My name is Christy. I'm  23 years old.\n"
     ]
    }
   ],
   "source": [
    "class Person:\n",
    "    def __init__(self, name, age):\n",
    "        self.name  = name\n",
    "        self.age = age\n",
    "    def  myfunction(self):\n",
    "        print(f\" My name is {self.name}. I'm  {self.age} years old.\")\n",
    "\n",
    "obj =  Person(\"Christy\", 23)\n",
    "obj.myfunction()"
   ]
  },
  {
   "cell_type": "code",
   "execution_count": 22,
   "id": "9b901295-0c08-46f5-9256-cdfde077bce1",
   "metadata": {},
   "outputs": [
    {
     "name": "stdin",
     "output_type": "stream",
     "text": [
      "enter the radius: 5\n"
     ]
    },
    {
     "name": "stdout",
     "output_type": "stream",
     "text": [
      "area is 78.5\n",
      "perimeter is 31.400000000000002\n"
     ]
    }
   ],
   "source": [
    "# program 23 create a class representing a  circle. include methods to calculate its  area &  perimeter.\n",
    "class Circle:\n",
    "    def __init__(self,radius):\n",
    "        self.radius  = radius\n",
    "    def area(self):\n",
    "        A = 3.14*(self.radius**2)\n",
    "        return A\n",
    "    def perimeter(self):\n",
    "        P = (2*3.14*self.radius)\n",
    "        return P\n",
    "radius = int(input('enter the radius:'))\n",
    "obj = Circle(radius)\n",
    "A = obj.area()\n",
    "P = obj.perimeter()\n",
    "print('area is', A)\n",
    "print('perimeter is',P)"
   ]
  },
  {
   "cell_type": "markdown",
   "id": "8ac36a0f-3183-44db-a5ec-2da94706a6a3",
   "metadata": {},
   "source": [
    "#### Inheritance\n",
    "It allows to inherit all  the properties & methods from another class.\n",
    "###### parent class - base class\n",
    "###### child class - derived class"
   ]
  },
  {
   "cell_type": "markdown",
   "id": "5eed06db-5c95-494f-8b69-c191107bf184",
   "metadata": {},
   "source": [
    "###### Add pass statement if the  child class is empty.\n",
    "######  We can add __init__() function to the child  class, then add a call to the  parent's __init__()  fn."
   ]
  },
  {
   "cell_type": "code",
   "execution_count": 55,
   "id": "3ca56d49-c4ea-4514-b01a-8a454f6da711",
   "metadata": {},
   "outputs": [
    {
     "name": "stdout",
     "output_type": "stream",
     "text": [
      "Mike Joe\n"
     ]
    }
   ],
   "source": [
    "# program 24\n",
    "class Person:\n",
    "    def __init__(self, fname, lname):\n",
    "        self.fname = fname\n",
    "        self.lname = lname\n",
    "    def  printname(self):\n",
    "        print(self.fname,self.lname)\n",
    "class Student(Person):\n",
    "    def __init__(self,fname,lname):\n",
    "        Person.__init__(self,fname,lname)\n",
    "obj  = Student('Mike','Joe')\n",
    "obj.printname()"
   ]
  },
  {
   "cell_type": "code",
   "execution_count": 57,
   "id": "3cfdf2c5-2449-4ed0-afa3-d645df887238",
   "metadata": {},
   "outputs": [
    {
     "name": "stdout",
     "output_type": "stream",
     "text": [
      "Black German_shepherd\n",
      "05-10-2023\n"
     ]
    }
   ],
   "source": [
    "# when we use  super()  fn, we dont have to use the name of parent class\n",
    "# program 25\n",
    "class Animal:\n",
    "    def __init__(self,color,breed):\n",
    "        self.color = color\n",
    "        self.breed = breed\n",
    "    def method(self):\n",
    "        print(self.color, self.breed)\n",
    "        print(self.birth_date)\n",
    "class Dog(Animal):\n",
    "    def __init__(self,color,breed,birth_date):\n",
    "        super().__init__(color,breed)\n",
    "        self.birth_date = birth_date\n",
    "obj = Dog('Black','German_shepherd','05-10-2023')\n",
    "obj.method()"
   ]
  },
  {
   "cell_type": "code",
   "execution_count": 1,
   "id": "24611adf-5691-4be6-932e-7ecff345ed3c",
   "metadata": {},
   "outputs": [
    {
     "name": "stdout",
     "output_type": "stream",
     "text": [
      "1 : pride and prejudice by Jane Austen\n",
      "2 : The Alchemist by Paulo Coelho\n",
      "Total book  objects created =  2\n",
      "Total book  objects created =  2\n"
     ]
    }
   ],
   "source": [
    "# program 26\n",
    "class Book:\n",
    "    objcreated =  0\n",
    "    def __init__(self,bno,bname,auth):\n",
    "        self.bookno =  bno\n",
    "        self.bookname = bname\n",
    "        self.author = auth\n",
    "        Book.objcreated+=1\n",
    "    def booklet(self):\n",
    "        print(self.bookno,':' , self.bookname , 'by' , self.author)\n",
    "    def totalbook(self):\n",
    "        print('Total book  objects created = ', Book.objcreated)\n",
    "A = Book(1, 'pride and prejudice','Jane Austen')\n",
    "B = Book(2,  'The Alchemist','Paulo Coelho')\n",
    "A.booklet()\n",
    "B.booklet()\n",
    "A.totalbook()\n",
    "B.totalbook()"
   ]
  },
  {
   "cell_type": "markdown",
   "id": "bcb0846d-91ea-4caf-a8de-97d6c0ad56fe",
   "metadata": {},
   "source": [
    "| Type of Inheritance          | Structure                                 | Example Structure                                                                                                     |\n",
    "| ---------------------------- | ----------------------------------------- | --------------------------------------------------------------------------------------------------------------------- |\n",
    "| **Single Inheritance**       | One parent → One child                    | class Parent: <br>  pass <br><br> class Child(Parent): <br>  pass                                                     |\n",
    "| **Multilevel Inheritance**   | Parent → Child → Grandchild               | class Grandparent: <br>  pass <br><br> class Parent(Grandparent): <br>  pass <br><br> class Child(Parent): <br>  pass |\n",
    "| **Multiple Inheritance**     | One child inherits from two parents       | class Parent1: <br>  pass <br><br> class Parent2: <br>  pass <br><br> class Child(Parent1, Parent2): <br>  pass       |\n",
    "| **Hierarchical Inheritance** | One parent → Many children                | class Parent: <br>  pass <br><br> class Child1(Parent): <br>  pass <br><br> class Child2(Parent): <br>  pass          |\n",
    "| **Hybrid Inheritance**       | Combination of multiple inheritance types | class A: <br>  pass <br><br> class B(A): <br>  pass <br><br> class C: <br>  pass <br><br> class D(B, C): <br>  pass   |\n"
   ]
  },
  {
   "cell_type": "code",
   "execution_count": 10,
   "id": "71989263-2169-46b7-bad5-d879a14e3501",
   "metadata": {},
   "outputs": [
    {
     "name": "stdout",
     "output_type": "stream",
     "text": [
      "This is  benz\n",
      "This is  bmw\n",
      "This is volvo bus\n",
      "This  is eicher truck\n",
      "This is  main class\n"
     ]
    }
   ],
   "source": [
    "#multiple inheritence example\n",
    "class car():\n",
    "    def benz(self):\n",
    "        print('This is  benz')\n",
    "class  bike():\n",
    "    def bmw(self):\n",
    "        print('This is  bmw')\n",
    "class  bus():\n",
    "    def volvo(self):\n",
    "        print('This is volvo bus')\n",
    "class truck():\n",
    "    def eicher(self):\n",
    "        print('This  is eicher truck')\n",
    "class transport(car,bike,bus,truck):\n",
    "    def main(self):\n",
    "        print('This is  main class')\n",
    "B = transport()\n",
    "B.benz()\n",
    "B.bmw()\n",
    "B.volvo()\n",
    "B.eicher()\n",
    "B.main()"
   ]
  },
  {
   "cell_type": "code",
   "execution_count": 17,
   "id": "ed6ed648-f986-42ad-951c-dbb4f8286c6e",
   "metadata": {},
   "outputs": [
    {
     "name": "stdout",
     "output_type": "stream",
     "text": [
      "details: REG: KL-07-2523 model from maruti color:  silver\n",
      "details: REG: KL-03-5677 model from Volswagen color:  blue\n"
     ]
    }
   ],
   "source": [
    "# multilevel inheritance  example\n",
    "class vehicle:                               #grandparent\n",
    "    regno = ' '\n",
    "class  lmv(vehicle):                         #parent\n",
    "    company = ' '\n",
    "class  car(lmv):                             #child\n",
    "    color = ' '\n",
    "    model = ' '\n",
    "    def __init__(self,regno,company,color,model):\n",
    "        self.regno =  regno\n",
    "        self.company = company\n",
    "        self.color = color\n",
    "        self.model = model\n",
    "    def disp(self):\n",
    "        print('details: REG: '+ self.regno + ' model '+'from ' + self.company + ' color:  '+self.color)\n",
    "C1 = car('KL-07-2523','maruti','silver','XUV')\n",
    "C2 = car('KL-03-5677','Volswagen','blue','polo')\n",
    "C1.disp()\n",
    "C2.disp()"
   ]
  },
  {
   "cell_type": "markdown",
   "id": "423cd5ef-2d6e-4785-9828-9eda2d1568f6",
   "metadata": {},
   "source": [
    "##### Destructor: __del__() method is used  when an instance is about  to be destroyed, which is  called  destructor"
   ]
  },
  {
   "cell_type": "code",
   "execution_count": 31,
   "id": "de0d3c67-53bb-4995-b60b-8e78d6a809b5",
   "metadata": {
    "scrolled": true
   },
   "outputs": [
    {
     "name": "stdout",
     "output_type": "stream",
     "text": [
      "A new obj is created\n",
      "Tiger  from  Tata\n",
      "An obj destroyed\n",
      "A new obj is created\n",
      "baleno  from  suzuki\n",
      "An obj destroyed\n",
      "A new obj is created\n",
      "An obj destroyed\n",
      "Fortuner  from  Toyota\n"
     ]
    }
   ],
   "source": [
    "class car():\n",
    "    def __init__(self,company,model):\n",
    "        self.company = company\n",
    "        self.model  = model\n",
    "        print('A new obj is created')\n",
    "    def  showdetails(self):\n",
    "        print(self.model + ' ' + ' from ' + ' ' + self.company)\n",
    "    def __del__(self):\n",
    "        print('An obj destroyed')\n",
    "C1 = car('Tata','Tiger')\n",
    "C1.showdetails()\n",
    "del C1\n",
    "C2 = car('suzuki','baleno')\n",
    "C2.showdetails()\n",
    "del C2\n",
    "C3 = car('Toyota','Fortuner')\n",
    "C3.showdetails()"
   ]
  },
  {
   "cell_type": "markdown",
   "id": "c6c6d2a1-36b1-452e-b2bc-9b0cc63a80b9",
   "metadata": {},
   "source": [
    "###### Method overloading: Having same methods with different parameters in a class. However, Python doesn't support method overloading. it overwrites the method, and only the last one will print. Hence, it provides an error. The following code is an example."
   ]
  },
  {
   "cell_type": "code",
   "execution_count": null,
   "id": "8c3c2ed6-644d-46d5-8b28-14f2b165cc5b",
   "metadata": {},
   "outputs": [],
   "source": [
    "class car:\n",
    "    def __init__(self,a,b):\n",
    "        self.x = a\n",
    "        self.y = b\n",
    "    def add(self):\n",
    "        print(a+b)\n",
    "    def add(self,p):\n",
    "        print(a+p+b)\n",
    "    def add(self,p,q):\n",
    "        print(a+p+q+b)\n",
    "c1 = car(5,6)\n",
    "c1.add()\n",
    "c1.add(3)\n",
    "c1.add(3,7)"
   ]
  },
  {
   "cell_type": "markdown",
   "id": "ce7716b0-3815-4ca6-ae3e-c9a0060bd4ea",
   "metadata": {},
   "source": [
    "###### Opeartor overloading: Giving extended meaning to operators, beyond their predefined opeartional meaning."
   ]
  },
  {
   "cell_type": "code",
   "execution_count": 17,
   "id": "dd4642c1-0cc0-4c8f-ab7d-8a3fd317a42b",
   "metadata": {},
   "outputs": [
    {
     "name": "stdout",
     "output_type": "stream",
     "text": [
      "Operator overloading on +\n",
      "Adding  integers: 10\n",
      "Adding string: Welcome to Gisma \n",
      "Operator overloading on  *\n",
      "Multiplying integers:  16\n",
      "Multiplying string: Gisma Gisma Gisma Gisma \n"
     ]
    }
   ],
   "source": [
    "print('Operator overloading on +')\n",
    "n1 = 8\n",
    "n2 = 2\n",
    "print('Adding  integers: ' + str(n1+n2))\n",
    "str1 = 'Welcome '\n",
    "str2 =  'to '\n",
    "str3 = 'Gisma '\n",
    "print('Adding string: '+ str1+ str2+ str3)\n",
    "print('Operator overloading on  *')\n",
    "print('Multiplying integers:  ' +str(n1*n2))\n",
    "print('Multiplying string: ' +str3 *4)"
   ]
  },
  {
   "cell_type": "code",
   "execution_count": 19,
   "id": "72984071-bf1b-4f32-8856-2ff53bee6dd6",
   "metadata": {},
   "outputs": [
    {
     "name": "stdout",
     "output_type": "stream",
     "text": [
      "(7,2)\n"
     ]
    }
   ],
   "source": [
    "#  overloading the binary + opeartor in python\n",
    "class vector:\n",
    "    def __init__(self,x,y):\n",
    "        self.x =  x\n",
    "        self.y =  y\n",
    "    def __add__(self,other):\n",
    "        return  vector(self.x  + other.x, self.y + other.y)\n",
    "    def __str__(self):\n",
    "        return f'({self.x},{self.y})'\n",
    "v1 =  vector(4,8)\n",
    "v2 = vector(3,-6)\n",
    "v3  = v1+v2\n",
    "print(v3)"
   ]
  },
  {
   "cell_type": "markdown",
   "id": "d1b16fd5-2c2a-4d43-8fc8-fcf05c0b2167",
   "metadata": {},
   "source": [
    "### File handling"
   ]
  },
  {
   "cell_type": "markdown",
   "id": "b4edafb4-b891-4654-838f-eee41fc89742",
   "metadata": {},
   "source": [
    "#####  Python gives built-in functions to create, read, write, and delete files. The key function is open() fn, which takes 2 parameters: filename & mode. 4 different mode foropening a  file are:\n",
    "| Mode   | Meaning                                         |\n",
    "| ------ | ----------------------------------------------- |\n",
    "| `\"r\"`  | Read (default). File must exist.                |\n",
    "| `\"w\"`  | Write. Creates new file or overwrites existing. |\n",
    "| `\"a\"`  | Append. Creates the  file if  it doesn't  exists. Adds new content at end.                |\n",
    "| `\"x\"`  | Create. Fails if file already exists.           |\n",
    "| `\"b\"`  | Binary mode (e.g., `\"rb\"`, `\"wb\"`,`\"rt\"`,`\"wt\"`). t indicates text, which is default value, r  and w are read and write.         |\n"
   ]
  },
  {
   "cell_type": "code",
   "execution_count": 1,
   "id": "2358e418-e8bd-4499-988b-ef738720d955",
   "metadata": {},
   "outputs": [
    {
     "name": "stdout",
     "output_type": "stream",
     "text": [
      "This is the first line\n"
     ]
    }
   ],
   "source": [
    "# writing, reading and  closing a file\n",
    "f = open('demofile.txt',\"w\")\n",
    "f.write('This is the first line')\n",
    "f.close()\n",
    "f = open('demofile.txt',\"r\")\n",
    "print(f.read())\n",
    "f.close()"
   ]
  },
  {
   "cell_type": "code",
   "execution_count": 3,
   "id": "a68b3498-a5b4-4bad-a2bc-f8b89a765f77",
   "metadata": {},
   "outputs": [
    {
     "name": "stdout",
     "output_type": "stream",
     "text": [
      "This is the first line\n",
      "Here comes  the second\n"
     ]
    }
   ],
   "source": [
    "# appending to  a file\n",
    "f =  open('demofile.txt',\"a\")\n",
    "f.write('\\nHere comes  the second')          \n",
    "f.close()\n",
    "f = open('demofile.txt',\"r\")\n",
    "print(f.read())\n",
    "f.close()"
   ]
  },
  {
   "cell_type": "code",
   "execution_count": 20,
   "id": "f573ba53-792a-43b7-85ef-de22de496974",
   "metadata": {},
   "outputs": [
    {
     "name": "stdout",
     "output_type": "stream",
     "text": [
      "This is the first line\n"
     ]
    }
   ],
   "source": [
    "# readline() returns one  line\n",
    "f =open('demofile.txt',\"r\")\n",
    "print(f.readline())\n",
    "f.close()"
   ]
  },
  {
   "cell_type": "code",
   "execution_count": 5,
   "id": "3bde37dc-bcb0-45b1-acf4-10377977a966",
   "metadata": {},
   "outputs": [
    {
     "name": "stdout",
     "output_type": "stream",
     "text": [
      "File deleted\n"
     ]
    }
   ],
   "source": [
    "# delete a file: to delete,  import  os module and run os.remove() fn\n",
    "with open(\"demofile.txt\", \"w\") as f:                           # with statement  makes  the  file auto close\n",
    "    f.write(\"Hello\")\n",
    "    \n",
    "import  os\n",
    "if os.path.exists('demofile.txt'):                             #checking  wheather the file exists or not\n",
    "    os.remove('demofile.txt')\n",
    "    print('File deleted')"
   ]
  },
  {
   "cell_type": "markdown",
   "id": "3add92df-105d-4093-9c3d-1ea5159fa2d0",
   "metadata": {},
   "source": [
    "#### Exception handling in python\n",
    "| Keyword   | Purpose                            |\n",
    "| --------- | ---------------------------------- |\n",
    "| `try`     | test the  code for  exception |\n",
    "| `except`  | Handles the exception              |\n",
    "| `else`    | Executes if no exception occurs    |\n",
    "| `finally` | Executes no matter what            |\n",
    "| `raise`   | Manually raise an exception        |\n"
   ]
  },
  {
   "cell_type": "code",
   "execution_count": 31,
   "id": "579c53f7-6499-4c7d-806a-91843d478251",
   "metadata": {},
   "outputs": [
    {
     "name": "stdin",
     "output_type": "stream",
     "text": [
      "enter a num to divide  5 by:  275\n"
     ]
    },
    {
     "name": "stdout",
     "output_type": "stream",
     "text": [
      "divison successful!  Result = 0.01818181818181818\n",
      "execution completed\n"
     ]
    }
   ],
   "source": [
    "def demo():\n",
    "    try:\n",
    "        num = int(input('enter a num to divide  5 by: '))\n",
    "\n",
    "        if  num < 0:\n",
    "            raise ValueError('Negative  nums are not allowed')\n",
    "\n",
    "        result = 5/num\n",
    "    except ValueError as ve:\n",
    "        print('value error: ',ve)\n",
    "    except ZeroDivisionError:\n",
    "        print('cannot divide by zero')\n",
    "    except Exception as e:                             \n",
    "        print(\"Some other error occurred:\", e)\n",
    "    else:\n",
    "        print('divison successful!  Result =', result)\n",
    "    finally:\n",
    "        print('execution completed')\n",
    "demo()"
   ]
  },
  {
   "cell_type": "markdown",
   "id": "8899ed97-e430-4dd9-8e80-78dc681098d7",
   "metadata": {},
   "source": [
    "#### Polymorphism: it  means many forms"
   ]
  },
  {
   "cell_type": "code",
   "execution_count": 35,
   "id": "308be9e4-630b-4946-94a0-94b44af33ddb",
   "metadata": {},
   "outputs": [
    {
     "name": "stdout",
     "output_type": "stream",
     "text": [
      "5\n",
      "4\n"
     ]
    }
   ],
   "source": [
    "# function polymorphism: uses len() fn and return the no.of characters for different data types.\n",
    "print(len(\"Hello\"))                                    # string length\n",
    "print(len([1,2,3,4]))                                  # list length\n"
   ]
  },
  {
   "cell_type": "code",
   "execution_count": 39,
   "id": "a62afd81-9f9a-4b67-a61b-3267830918c9",
   "metadata": {},
   "outputs": [
    {
     "name": "stdout",
     "output_type": "stream",
     "text": [
      "Woof Woof!\n",
      "Meow!\n",
      "Some sound\n"
     ]
    }
   ],
   "source": [
    "#class polymorphism: method overriding. same method uses  in different classes( Note: it is not method overloading)\n",
    "class Animal:\n",
    "    def speak(self):\n",
    "        print(\"Some sound\")\n",
    "\n",
    "class Dog(Animal):\n",
    "    def speak(self):\n",
    "        print(\"Woof Woof!\")\n",
    "\n",
    "class Cat(Animal):\n",
    "    def speak(self):\n",
    "        print(\"Meow!\")\n",
    "\n",
    "animals = [Dog(), Cat(), Animal()]\n",
    "for a in animals:\n",
    "    a.speak()\n"
   ]
  },
  {
   "cell_type": "markdown",
   "id": "423f124f-2b19-403c-adc4-b8a248063067",
   "metadata": {},
   "source": [
    "####  Data Abstraction: hiding the details and showing only what is necessary."
   ]
  },
  {
   "cell_type": "code",
   "execution_count": 54,
   "id": "c038e0e9-6191-4f5d-93fb-988e945e0f56",
   "metadata": {},
   "outputs": [
    {
     "name": "stdout",
     "output_type": "stream",
     "text": [
      "name:  Elsa\n",
      "name:  Sam\n",
      "students reg:  2\n"
     ]
    }
   ],
   "source": [
    "class student:\n",
    "    __totalcount =  0                                    # private  class variable\n",
    "    def  __init__(self,name):\n",
    "        self.name = name\n",
    "        student.__totalcount+=1\n",
    "    def showname(self):\n",
    "        print('name: ',self.name)\n",
    "    def  totalstudents():\n",
    "        print('students reg: ',student.__totalcount)\n",
    "class mystudent(student):\n",
    "    def __init__(self,name):\n",
    "        super().__init__(name)\n",
    "s1 = mystudent('Elsa')\n",
    "s2 = mystudent('Sam')\n",
    "s1.showname()\n",
    "s2.showname()\n",
    "student.totalstudents()"
   ]
  },
  {
   "cell_type": "markdown",
   "id": "c59ac1a4-1768-4549-8c58-061bf8c9443f",
   "metadata": {},
   "source": [
    "To hide the private class  variable, add underscore as a prefix to the attributes. In the above  example, __totalcount  is the private class."
   ]
  },
  {
   "cell_type": "markdown",
   "id": "462b88fc-ff19-4edc-8254-6a1fa874df2d",
   "metadata": {},
   "source": [
    "Other examples in python"
   ]
  },
  {
   "cell_type": "code",
   "execution_count": 3,
   "id": "3cb2458b-9b23-4dd0-b3d7-b8404ecba1c5",
   "metadata": {},
   "outputs": [
    {
     "name": "stdin",
     "output_type": "stream",
     "text": [
      "enter the principal  amount:  2800000\n",
      "enter  the year:  4\n",
      "enter the rate of interest:  10.45\n"
     ]
    },
    {
     "name": "stdout",
     "output_type": "stream",
     "text": [
      "simple  interest is  1170400.000000\n"
     ]
    }
   ],
   "source": [
    "# program 27: find the simple interest by accepting principal amount, no:of years &  rate of interest.\n",
    "p = int(input('enter the principal  amount: '))\n",
    "n = int(input('enter  the year: '))\n",
    "r = float(input('enter the rate of interest: '))\n",
    "s = (p*n*r) / 100\n",
    "print('simple  interest is  %f' %s)"
   ]
  },
  {
   "cell_type": "markdown",
   "id": "0f75991f-cd01-4033-9be0-888d0fd71007",
   "metadata": {},
   "source": [
    "Program 28: Accept  a string 'open source lab' from the keyboard &  perform the following operations.\n",
    "a) length of string. b) take substring 'source' in string. c)repeat string 3  times. d)print characters in vertical and horizontal.\n",
    "e) character in 4th position. f) extract 4 char from index 6. g) print all characters except last 2. h)append another string 'programs' 1 to existing.\n",
    "i)change  'e'  to '&'. j)split string using 'o'. k) join stung using '#'. l) count no:of space, digits, alphabets.\n"
   ]
  },
  {
   "cell_type": "code",
   "execution_count": 9,
   "id": "9e256b95-bf20-4572-9d90-89353dda48d9",
   "metadata": {},
   "outputs": [
    {
     "name": "stdin",
     "output_type": "stream",
     "text": [
      "enter string:  open source lab\n"
     ]
    },
    {
     "name": "stdout",
     "output_type": "stream",
     "text": [
      "length:  15\n",
      "sub is: source\n",
      "3  times:  open source labopen source labopen source lab\n",
      "verti: \n",
      "o\n",
      "p\n",
      "e\n",
      "n\n",
      " \n",
      "s\n",
      "o\n",
      "u\n",
      "r\n",
      "c\n",
      "e\n",
      " \n",
      "l\n",
      "a\n",
      "b\n",
      "horiz:  open source lab\n",
      "4th  character:  n\n",
      "4 characters  from index 6:  ourc\n",
      "all char except last  2:  open source l\n",
      "appending : open source lab programs\n",
      "changing : op&n sourc& lab\n",
      "splitting : ['', 'pen s', 'urce lab']\n",
      "join:  o#p#e#n# #s#o#u#r#c#e# #l#a#b\n",
      "digits:  0\n",
      "alpha:  13\n",
      "space:  2\n"
     ]
    }
   ],
   "source": [
    "n =  str(input('enter string: '))\n",
    "l = len(n)\n",
    "print('length: ',l)\n",
    "sub =  n[5:11]\n",
    "print('sub is:', sub)\n",
    "r = n * 3\n",
    "print('3  times: ', r)\n",
    "print('verti: ')\n",
    "for i in n:\n",
    "    print(i)\n",
    "print('horiz: ',n)\n",
    "print('4th  character: ',n[3])\n",
    "print('4 characters  from index 6: ',n[6:10])\n",
    "print('all char except last  2: ',n[:13])\n",
    "print('appending :',   n+' programs')\n",
    "print('changing :', n.replace('e','&'))\n",
    "print('splitting :',n.split('o'))\n",
    "print('join: ','#'.join(n))\n",
    "digit = 0\n",
    "letter = 0\n",
    "space = 0\n",
    "other =  0\n",
    "for i in n:\n",
    "    if i.isalpha():\n",
    "        letter  =letter+1\n",
    "    elif i.isdigit():\n",
    "        digit = digit+1\n",
    "    elif i.isspace():\n",
    "        space = space+1\n",
    "    else:\n",
    "        other = other+1\n",
    "print('digits: ',digit)\n",
    "print('alpha: ',letter)\n",
    "print('space: ',space)"
   ]
  },
  {
   "cell_type": "code",
   "execution_count": 5,
   "id": "679d69d9-579f-4d7c-8b30-3b08695c2bf7",
   "metadata": {},
   "outputs": [
    {
     "name": "stdin",
     "output_type": "stream",
     "text": [
      "enter the  num:  153\n"
     ]
    },
    {
     "name": "stdout",
     "output_type": "stream",
     "text": [
      "153 is armstong\n"
     ]
    }
   ],
   "source": [
    "# program 29: check whether the given number is Armstrong or not\n",
    "def arms(n):\n",
    "    s = 0\n",
    "    while  n>0:\n",
    "        r = int(n%10)                                                 # get the last digit\n",
    "        s = int(s+(r*r*r))                                            # cube the digit and add to sum  \n",
    "        n = int(n/10)                 \n",
    "    return s\n",
    "n = int(input('enter the  num: '))\n",
    "temp = n\n",
    "s =  arms(n)\n",
    "if temp==s:\n",
    "    print('%d is armstong' %(temp))\n",
    "else:\n",
    "    print('%d  is  not  armstrong' %(temp))"
   ]
  }
 ],
 "metadata": {
  "kernelspec": {
   "display_name": "Python [conda env:base] *",
   "language": "python",
   "name": "conda-base-py"
  },
  "language_info": {
   "codemirror_mode": {
    "name": "ipython",
    "version": 3
   },
   "file_extension": ".py",
   "mimetype": "text/x-python",
   "name": "python",
   "nbconvert_exporter": "python",
   "pygments_lexer": "ipython3",
   "version": "3.12.7"
  }
 },
 "nbformat": 4,
 "nbformat_minor": 5
}
